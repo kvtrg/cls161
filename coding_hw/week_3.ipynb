{
 "cells": [
  {
   "cell_type": "code",
   "execution_count": null,
   "id": "e2b0ff83",
   "metadata": {},
   "outputs": [],
   "source": [
    "# Keith Truong\n",
    "# 25 September 2023"
   ]
  },
  {
   "cell_type": "markdown",
   "id": "7436eae8",
   "metadata": {},
   "source": [
    "## 2-1"
   ]
  },
  {
   "cell_type": "code",
   "execution_count": 2,
   "id": "352cd930",
   "metadata": {},
   "outputs": [
    {
     "name": "stdout",
     "output_type": "stream",
     "text": [
      "Hello, world!\n"
     ]
    }
   ],
   "source": [
    "greeting = \"Hello, world!\"\n",
    "print(greeting)"
   ]
  },
  {
   "cell_type": "markdown",
   "id": "b4fd592a",
   "metadata": {},
   "source": [
    "## 2-2"
   ]
  },
  {
   "cell_type": "code",
   "execution_count": 3,
   "id": "4500d5d3",
   "metadata": {},
   "outputs": [
    {
     "name": "stdout",
     "output_type": "stream",
     "text": [
      "Hello, world!\n",
      "Hello again, world!\n"
     ]
    }
   ],
   "source": [
    "greeting = \"Hello, world!\"\n",
    "print(greeting)\n",
    "greeting = \"Hello again, world!\"\n",
    "print(greeting)"
   ]
  },
  {
   "cell_type": "markdown",
   "id": "ea5c1465",
   "metadata": {},
   "source": [
    "## 2-3"
   ]
  },
  {
   "cell_type": "code",
   "execution_count": 4,
   "id": "7c461fd5",
   "metadata": {},
   "outputs": [
    {
     "name": "stdout",
     "output_type": "stream",
     "text": [
      "HelloPello, do you want to make rice tonight?\n"
     ]
    }
   ],
   "source": [
    "name = \"Pello\"\n",
    "print(\"Hello\" + name + \", do you want to make rice tonight?\")"
   ]
  },
  {
   "cell_type": "code",
   "execution_count": 5,
   "id": "e160b47c",
   "metadata": {},
   "outputs": [
    {
     "name": "stdout",
     "output_type": "stream",
     "text": [
      "Hello Pello, do you want to make rice tonight?\n"
     ]
    }
   ],
   "source": [
    "name = \"Pello\"\n",
    "print(\"Hello \" + name + \", do you want to make rice tonight?\")"
   ]
  },
  {
   "cell_type": "markdown",
   "id": "fefdef56",
   "metadata": {},
   "source": [
    "## 2-4"
   ]
  },
  {
   "cell_type": "code",
   "execution_count": null,
   "id": "d7e22770",
   "metadata": {},
   "outputs": [],
   "source": [
    "# print in different cases"
   ]
  },
  {
   "cell_type": "code",
   "execution_count": 6,
   "id": "5a60fb26",
   "metadata": {},
   "outputs": [
    {
     "name": "stdout",
     "output_type": "stream",
     "text": [
      "PELLO\n",
      "pello\n",
      "Pello\n"
     ]
    }
   ],
   "source": [
    "print(name.upper())\n",
    "print(name.lower())\n",
    "print(name.title())"
   ]
  },
  {
   "cell_type": "markdown",
   "id": "95e88a11",
   "metadata": {},
   "source": [
    "## 2-5"
   ]
  },
  {
   "cell_type": "code",
   "execution_count": 7,
   "id": "d898f4cb",
   "metadata": {},
   "outputs": [
    {
     "name": "stdout",
     "output_type": "stream",
     "text": [
      "Lam Hai Quynh once said,'Lan cuoi cung that su minh hua luon do minh hua luon do!'\n"
     ]
    }
   ],
   "source": [
    "print(\"Lam Hai Quynh once said,'Lan cuoi cung that su minh hua luon do minh hua luon do!'\")"
   ]
  },
  {
   "cell_type": "code",
   "execution_count": 10,
   "id": "de078b1b",
   "metadata": {},
   "outputs": [
    {
     "name": "stdout",
     "output_type": "stream",
     "text": [
      "Lam Hai Quynh once said, \"Lan cuoi cung that su minh hua luon do minh hua luon do!\"\n"
     ]
    }
   ],
   "source": [
    "famous_person = \"Lam Hai Quynh\"\n",
    "message = famous_person + ' once said, \"Lan cuoi cung that su minh hua luon do minh hua luon do!\"'\n",
    "print(message)"
   ]
  },
  {
   "cell_type": "markdown",
   "id": "f63a7498",
   "metadata": {},
   "source": [
    "## 2-6"
   ]
  },
  {
   "cell_type": "code",
   "execution_count": 12,
   "id": "49b15f68",
   "metadata": {},
   "outputs": [
    {
     "name": "stdout",
     "output_type": "stream",
     "text": [
      "/n/t Lam Hai Quynh\n"
     ]
    }
   ],
   "source": [
    "famous_person = \"/n/t Lam Hai Quynh\"\n",
    "print(famous_person)"
   ]
  },
  {
   "cell_type": "code",
   "execution_count": 13,
   "id": "4968b25b",
   "metadata": {},
   "outputs": [
    {
     "name": "stdout",
     "output_type": "stream",
     "text": [
      "\n",
      "\t Lam Hai Quynh\n"
     ]
    }
   ],
   "source": [
    "famous_person = \"\\n\\t Lam Hai Quynh\"\n",
    "print(famous_person)"
   ]
  },
  {
   "cell_type": "markdown",
   "id": "022a80ce",
   "metadata": {},
   "source": [
    "## 2-7"
   ]
  },
  {
   "cell_type": "code",
   "execution_count": null,
   "id": "22a647b7",
   "metadata": {},
   "outputs": [],
   "source": [
    "# stripping space off of string"
   ]
  },
  {
   "cell_type": "code",
   "execution_count": 16,
   "id": "dc22a2c2",
   "metadata": {},
   "outputs": [
    {
     "name": "stdout",
     "output_type": "stream",
     "text": [
      "\n",
      "\t Lam Hai Quynh\n",
      "Lam Hai Quynh\n",
      "Lam Hai Quynh\n"
     ]
    }
   ],
   "source": [
    "famous_person = \"\\n\\t Lam Hai Quynh\"\n",
    "print(famous_person.rstrip())\n",
    "print(famous_person.lstrip())\n",
    "print(famous_person.strip())"
   ]
  },
  {
   "cell_type": "markdown",
   "id": "bdc9f6b3",
   "metadata": {},
   "source": [
    "## 2-10"
   ]
  },
  {
   "cell_type": "markdown",
   "id": "b6ceb153",
   "metadata": {},
   "source": [
    "## 3-1"
   ]
  },
  {
   "cell_type": "code",
   "execution_count": 17,
   "id": "9c71fffa",
   "metadata": {},
   "outputs": [
    {
     "name": "stdout",
     "output_type": "stream",
     "text": [
      "Lam Hai Quynh\n",
      "Nguyen Thien Thuat\n",
      "Nguyen Thi Thit\n"
     ]
    }
   ],
   "source": [
    "nguyenthi = ['Lam Hai Quynh','Nguyen Thien Thuat','Nguyen Thi Thit']\n",
    "print(nguyenthi[0])\n",
    "print(nguyenthi[1])\n",
    "print(nguyenthi[2])"
   ]
  },
  {
   "cell_type": "markdown",
   "id": "6e53924a",
   "metadata": {},
   "source": [
    "## 3-2"
   ]
  },
  {
   "cell_type": "code",
   "execution_count": 21,
   "id": "d6c72e4d",
   "metadata": {},
   "outputs": [
    {
     "name": "stdout",
     "output_type": "stream",
     "text": [
      "Ten thiet cua Lam Hai Quynh la Luong Hai Quen\n",
      "Ten thiet cua Nguyen Thien Thuat la Luong Hai Quen\n",
      "Ten thiet cua Nguyen Thi Thit la Luong Hai Quen\n"
     ]
    }
   ],
   "source": [
    "print(\"Ten thiet cua \" + nguyenthi[0] + \" la Luong Hai Quen\")\n",
    "print(\"Ten thiet cua \" + nguyenthi[1] + \" la Luong Hai Quen\")\n",
    "print(\"Ten thiet cua \" + nguyenthi[2] + \" la Luong Hai Quen\")"
   ]
  },
  {
   "cell_type": "markdown",
   "id": "4b2ee3cd",
   "metadata": {},
   "source": [
    "## 3-3"
   ]
  },
  {
   "cell_type": "code",
   "execution_count": 22,
   "id": "36cc83f3",
   "metadata": {},
   "outputs": [
    {
     "name": "stdout",
     "output_type": "stream",
     "text": [
      "Today, my fav color is orange\n",
      "Today, my fav color is blue\n",
      "Today, my fav color is green\n"
     ]
    }
   ],
   "source": [
    "colors = ['orange','blue','green']\n",
    "print(\"Today, my fav color is \" + colors[0])\n",
    "print(\"Today, my fav color is \" + colors[1])\n",
    "print(\"Today, my fav color is \" + colors[2])"
   ]
  },
  {
   "cell_type": "markdown",
   "id": "87498c3e",
   "metadata": {},
   "source": [
    "## 3-4"
   ]
  },
  {
   "cell_type": "code",
   "execution_count": 24,
   "id": "cb064062",
   "metadata": {},
   "outputs": [
    {
     "name": "stdout",
     "output_type": "stream",
     "text": [
      "['Lam Hai Quynh', 'Nguyen Thien Thuat', 'Nguyen Thi Thit']\n",
      "Hello Lam Hai Quynh, you are invited to dinner tonight!\n",
      "Hello Nguyen Thien Thuat, you are invited to dinner tonight!\n",
      "Hello Nguyen Thi Thit, you are invited to dinner tonight!\n"
     ]
    }
   ],
   "source": [
    "guestlist = nguyenthi\n",
    "print(guestlist)\n",
    "print(\"Hello \" + guestlist[0] + \", you are invited to dinner tonight!\")\n",
    "print(\"Hello \" + guestlist[1] + \", you are invited to dinner tonight!\")\n",
    "print(\"Hello \" + guestlist[2] + \", you are invited to dinner tonight!\")"
   ]
  },
  {
   "cell_type": "markdown",
   "id": "67d1fca6",
   "metadata": {},
   "source": [
    "## 3-5"
   ]
  },
  {
   "cell_type": "code",
   "execution_count": 25,
   "id": "da8c3a41",
   "metadata": {},
   "outputs": [
    {
     "name": "stdout",
     "output_type": "stream",
     "text": [
      "Unfortunately, Nguyen Thi Thit can't join us tonight for dinner.\n"
     ]
    }
   ],
   "source": [
    "print(\"Unfortunately, \" + guestlist[2] + \" can't join us tonight for dinner.\")"
   ]
  },
  {
   "cell_type": "code",
   "execution_count": 26,
   "id": "ea2d0583",
   "metadata": {},
   "outputs": [
    {
     "name": "stdout",
     "output_type": "stream",
     "text": [
      "Hello Lam Hai Quynh, you are invited to dinner tonight!\n",
      "Hello Nguyen Thien Thuat, you are invited to dinner tonight!\n",
      "Hello Nguyen Van Teo, you are invited to dinner tonight!\n"
     ]
    }
   ],
   "source": [
    "guestlist[2] = 'Nguyen Van Teo'\n",
    "print(\"Hello \" + guestlist[0] + \", you are invited to dinner tonight!\")\n",
    "print(\"Hello \" + guestlist[1] + \", you are invited to dinner tonight!\")\n",
    "print(\"Hello \" + guestlist[2] + \", you are invited to dinner tonight!\")"
   ]
  },
  {
   "cell_type": "markdown",
   "id": "e9d80dee",
   "metadata": {},
   "source": [
    "## 3-6"
   ]
  },
  {
   "cell_type": "code",
   "execution_count": 28,
   "id": "5f00679d",
   "metadata": {},
   "outputs": [
    {
     "name": "stdout",
     "output_type": "stream",
     "text": [
      "['Chi Pheo', 'Chi Pheo', 'Thi No', 'Thi No', 'Lam Hai Quynh', 'Nguyen Thien Thuat', 'Nguyen Van Teo', 'Nguyen Van Ti', 'Nguyen Van Ti']\n"
     ]
    }
   ],
   "source": [
    "guestlist.insert(0,'Chi Pheo')\n",
    "guestlist.insert(2,'Thi No')\n",
    "guestlist.append('Nguyen Van Ti')\n",
    "print(guestlist)"
   ]
  },
  {
   "cell_type": "code",
   "execution_count": 31,
   "id": "36baf4bc",
   "metadata": {},
   "outputs": [
    {
     "name": "stdout",
     "output_type": "stream",
     "text": [
      "['Thi No', 'Thi No', 'Lam Hai Quynh', 'Nguyen Thien Thuat', 'Nguyen Van Teo', 'Nguyen Van Ti', 'Nguyen Van Ti']\n"
     ]
    }
   ],
   "source": [
    "del guestlist[0]\n",
    "print(guestlist)"
   ]
  },
  {
   "cell_type": "code",
   "execution_count": 32,
   "id": "007cb140",
   "metadata": {},
   "outputs": [
    {
     "name": "stdout",
     "output_type": "stream",
     "text": [
      "['Thi No', 'Lam Hai Quynh', 'Nguyen Thien Thuat', 'Nguyen Van Teo', 'Nguyen Van Ti', 'Nguyen Van Ti']\n"
     ]
    }
   ],
   "source": [
    "del guestlist[0]\n",
    "print(guestlist)"
   ]
  },
  {
   "cell_type": "code",
   "execution_count": 33,
   "id": "e1047efe",
   "metadata": {},
   "outputs": [],
   "source": [
    "guestlist.remove('Nguyen Van Ti')"
   ]
  },
  {
   "cell_type": "code",
   "execution_count": 34,
   "id": "d71a839b",
   "metadata": {},
   "outputs": [
    {
     "name": "stdout",
     "output_type": "stream",
     "text": [
      "['Thi No', 'Lam Hai Quynh', 'Nguyen Thien Thuat', 'Nguyen Van Teo', 'Nguyen Van Ti']\n"
     ]
    }
   ],
   "source": [
    "print(guestlist)"
   ]
  },
  {
   "cell_type": "code",
   "execution_count": 35,
   "id": "7651be21",
   "metadata": {},
   "outputs": [
    {
     "name": "stdout",
     "output_type": "stream",
     "text": [
      "Hello Thi No, we got a bigger table so there will be more people joining us for dinner tonight!\n",
      "Hello Lam Hai Quynh, we got a bigger table so there will be more people joining us for dinner tonight!\n",
      "Hello Nguyen Thien Thuat, we got a bigger table so there will be more people joining us for dinner tonight!\n",
      "Hello Nguyen Van Teo, we got a bigger table so there will be more people joining us for dinner tonight!\n",
      "Hello Nguyen Van Ti, we got a bigger table so there will be more people joining us for dinner tonight!\n"
     ]
    }
   ],
   "source": [
    "print(\"Hello \" + guestlist[0] + \", we got a bigger table so there will be more people joining us for dinner tonight!\")\n",
    "print(\"Hello \" + guestlist[1] + \", we got a bigger table so there will be more people joining us for dinner tonight!\")\n",
    "print(\"Hello \" + guestlist[2] + \", we got a bigger table so there will be more people joining us for dinner tonight!\")\n",
    "print(\"Hello \" + guestlist[3] + \", we got a bigger table so there will be more people joining us for dinner tonight!\")\n",
    "print(\"Hello \" + guestlist[4] + \", we got a bigger table so there will be more people joining us for dinner tonight!\")"
   ]
  },
  {
   "cell_type": "markdown",
   "id": "055a7d49",
   "metadata": {},
   "source": [
    "## 3-7"
   ]
  },
  {
   "cell_type": "code",
   "execution_count": 36,
   "id": "a7465b7d",
   "metadata": {},
   "outputs": [
    {
     "name": "stdout",
     "output_type": "stream",
     "text": [
      "Hello again! Unfortunately, our table is not available anymore so I can only accomodate two guest tonight.\n"
     ]
    }
   ],
   "source": [
    "print(\"Hello again! Unfortunately, our table is not available anymore so I can only accomodate two guest tonight.\")"
   ]
  },
  {
   "cell_type": "code",
   "execution_count": 38,
   "id": "0a2a96db",
   "metadata": {},
   "outputs": [
    {
     "name": "stdout",
     "output_type": "stream",
     "text": [
      "Hi Nguyen Van Teo, you are uninvited!\n"
     ]
    }
   ],
   "source": [
    "uninvited = guestlist.pop()\n",
    "print(\"Hi \" + uninvited + \", you are uninvited!\")"
   ]
  },
  {
   "cell_type": "code",
   "execution_count": 39,
   "id": "3cb6af82",
   "metadata": {},
   "outputs": [
    {
     "name": "stdout",
     "output_type": "stream",
     "text": [
      "Hi Thi No, you are uninvited!\n"
     ]
    }
   ],
   "source": [
    "uninvited = guestlist.pop(0)\n",
    "print(\"Hi \" + uninvited + \", you are uninvited!\")"
   ]
  },
  {
   "cell_type": "code",
   "execution_count": 40,
   "id": "43621283",
   "metadata": {},
   "outputs": [
    {
     "name": "stdout",
     "output_type": "stream",
     "text": [
      "['Lam Hai Quynh', 'Nguyen Thien Thuat']\n"
     ]
    }
   ],
   "source": [
    "print(guestlist)"
   ]
  },
  {
   "cell_type": "code",
   "execution_count": 41,
   "id": "4919b188",
   "metadata": {
    "scrolled": true
   },
   "outputs": [
    {
     "name": "stdout",
     "output_type": "stream",
     "text": [
      "Hello Lam Hai Quynh, you are still invited to dinner!\n",
      "Hello Nguyen Thien Thuat, you are still invited to dinner!\n"
     ]
    }
   ],
   "source": [
    "print(\"Hello \" + guestlist[0] + \", you are still invited to dinner!\")\n",
    "print(\"Hello \" + guestlist[1] + \", you are still invited to dinner!\")"
   ]
  },
  {
   "cell_type": "code",
   "execution_count": 42,
   "id": "31a0c5fe",
   "metadata": {},
   "outputs": [],
   "source": [
    "del guestlist[0]\n",
    "del guestlist[0]"
   ]
  },
  {
   "cell_type": "code",
   "execution_count": 43,
   "id": "bee66646",
   "metadata": {},
   "outputs": [
    {
     "name": "stdout",
     "output_type": "stream",
     "text": [
      "[]\n"
     ]
    }
   ],
   "source": [
    "print(guestlist)"
   ]
  },
  {
   "cell_type": "markdown",
   "id": "d49b8125",
   "metadata": {},
   "source": [
    "## 3-8"
   ]
  },
  {
   "cell_type": "code",
   "execution_count": 44,
   "id": "2962b688",
   "metadata": {},
   "outputs": [
    {
     "name": "stdout",
     "output_type": "stream",
     "text": [
      "['sai gon', 'chiang mai', 'da lat', 'seoul', 'tokyo']\n"
     ]
    }
   ],
   "source": [
    "facesplaces = ['sai gon','chiang mai','da lat','seoul','tokyo']\n",
    "print(facesplaces)"
   ]
  },
  {
   "cell_type": "code",
   "execution_count": 46,
   "id": "684e120d",
   "metadata": {},
   "outputs": [
    {
     "name": "stdout",
     "output_type": "stream",
     "text": [
      "['chiang mai', 'da lat', 'sai gon', 'seoul', 'tokyo']\n",
      "['sai gon', 'chiang mai', 'da lat', 'seoul', 'tokyo']\n"
     ]
    }
   ],
   "source": [
    "print(sorted(facesplaces))\n",
    "print(facesplaces)"
   ]
  },
  {
   "cell_type": "code",
   "execution_count": 48,
   "id": "ea4d2946",
   "metadata": {
    "scrolled": true
   },
   "outputs": [
    {
     "name": "stdout",
     "output_type": "stream",
     "text": [
      "['tokyo', 'seoul', 'sai gon', 'da lat', 'chiang mai']\n",
      "['sai gon', 'chiang mai', 'da lat', 'seoul', 'tokyo']\n"
     ]
    }
   ],
   "source": [
    "print(sorted(facesplaces, reverse=True))\n",
    "print(facesplaces)"
   ]
  },
  {
   "cell_type": "code",
   "execution_count": 52,
   "id": "e5b40a19",
   "metadata": {},
   "outputs": [
    {
     "name": "stdout",
     "output_type": "stream",
     "text": [
      "['tokyo', 'seoul', 'da lat', 'chiang mai', 'sai gon']\n"
     ]
    }
   ],
   "source": [
    "facesplaces.reverse()\n",
    "print(facesplaces)"
   ]
  },
  {
   "cell_type": "code",
   "execution_count": 53,
   "id": "2c5d1fe7",
   "metadata": {},
   "outputs": [
    {
     "name": "stdout",
     "output_type": "stream",
     "text": [
      "['sai gon', 'chiang mai', 'da lat', 'seoul', 'tokyo']\n"
     ]
    }
   ],
   "source": [
    "facesplaces.reverse()\n",
    "print(facesplaces)"
   ]
  },
  {
   "cell_type": "code",
   "execution_count": 54,
   "id": "72350b97",
   "metadata": {},
   "outputs": [
    {
     "name": "stdout",
     "output_type": "stream",
     "text": [
      "['chiang mai', 'da lat', 'sai gon', 'seoul', 'tokyo']\n"
     ]
    }
   ],
   "source": [
    "facesplaces.sort()\n",
    "print(facesplaces)"
   ]
  },
  {
   "cell_type": "code",
   "execution_count": 55,
   "id": "6fe6f091",
   "metadata": {},
   "outputs": [
    {
     "name": "stdout",
     "output_type": "stream",
     "text": [
      "['tokyo', 'seoul', 'sai gon', 'da lat', 'chiang mai']\n"
     ]
    }
   ],
   "source": [
    "facesplaces.sort(reverse=True)\n",
    "print(facesplaces)"
   ]
  },
  {
   "cell_type": "markdown",
   "id": "9d909f68",
   "metadata": {},
   "source": [
    "## 4-1"
   ]
  },
  {
   "cell_type": "code",
   "execution_count": 56,
   "id": "f1d600ad",
   "metadata": {},
   "outputs": [
    {
     "name": "stdout",
     "output_type": "stream",
     "text": [
      "My fav food is banh xeo\n",
      "My fav food is banh dap\n",
      "My fav food is banh nam\n"
     ]
    }
   ],
   "source": [
    "food = ['banh xeo','banh dap','banh nam']\n",
    "for fav_food in food:\n",
    "    print(\"My fav food is \" + fav_food)"
   ]
  },
  {
   "cell_type": "code",
   "execution_count": 58,
   "id": "3476ee9d",
   "metadata": {},
   "outputs": [
    {
     "name": "stdout",
     "output_type": "stream",
     "text": [
      "My fav food is banh xeo\n",
      "My fav food is banh dap\n",
      "My fav food is banh nam\n",
      "I really like Vietnamese food\n"
     ]
    }
   ],
   "source": [
    "for fav_food in food:\n",
    "    print(\"My fav food is \" + fav_food)\n",
    "print(\"I really like Vietnamese food\")"
   ]
  },
  {
   "cell_type": "markdown",
   "id": "af55885b",
   "metadata": {},
   "source": [
    "## 4-2"
   ]
  },
  {
   "cell_type": "code",
   "execution_count": 60,
   "id": "fb0e9f88",
   "metadata": {},
   "outputs": [
    {
     "name": "stdout",
     "output_type": "stream",
     "text": [
      "big cat\n",
      "small cat\n",
      "medium cat\n"
     ]
    }
   ],
   "source": [
    "pet = ['big cat','small cat','medium cat']\n",
    "for fav_pet in pet:\n",
    "    print(fav_pet)\n"
   ]
  },
  {
   "cell_type": "code",
   "execution_count": 61,
   "id": "9189f17e",
   "metadata": {},
   "outputs": [
    {
     "name": "stdout",
     "output_type": "stream",
     "text": [
      "I love big cat\n",
      "I love small cat\n",
      "I love medium cat\n"
     ]
    }
   ],
   "source": [
    "for fav_pet in pet:\n",
    "    print(\"I love \" + fav_pet)"
   ]
  },
  {
   "cell_type": "code",
   "execution_count": 62,
   "id": "c9e61f55",
   "metadata": {},
   "outputs": [
    {
     "name": "stdout",
     "output_type": "stream",
     "text": [
      "I love big cat\n",
      "I love small cat\n",
      "I love medium cat\n",
      "I love every cat\n"
     ]
    }
   ],
   "source": [
    "for fav_pet in pet:\n",
    "    print(\"I love \" + fav_pet)\n",
    "print(\"I love every cat\")"
   ]
  },
  {
   "cell_type": "markdown",
   "id": "a3b41bf5",
   "metadata": {},
   "source": [
    "## 4-3"
   ]
  },
  {
   "cell_type": "code",
   "execution_count": 65,
   "id": "9e9ca4e7",
   "metadata": {},
   "outputs": [
    {
     "name": "stdout",
     "output_type": "stream",
     "text": [
      "1\n",
      "2\n",
      "3\n",
      "4\n",
      "5\n",
      "6\n",
      "7\n",
      "8\n",
      "9\n",
      "10\n",
      "11\n",
      "12\n",
      "13\n",
      "14\n",
      "15\n",
      "16\n",
      "17\n",
      "18\n",
      "19\n",
      "20\n"
     ]
    }
   ],
   "source": [
    "numbers = list(range(1,21))\n",
    "for number in numbers:\n",
    "    print(number)"
   ]
  },
  {
   "cell_type": "markdown",
   "id": "0249f94e",
   "metadata": {},
   "source": [
    "## 4-6"
   ]
  },
  {
   "cell_type": "code",
   "execution_count": 68,
   "id": "90285e45",
   "metadata": {},
   "outputs": [
    {
     "name": "stdout",
     "output_type": "stream",
     "text": [
      "1\n",
      "3\n",
      "5\n",
      "7\n",
      "9\n",
      "11\n",
      "13\n",
      "15\n",
      "17\n",
      "19\n"
     ]
    }
   ],
   "source": [
    "odd_numbers = list(range(1,20,2))\n",
    "for odd_number in odd_numbers:\n",
    "    print(odd_number)"
   ]
  },
  {
   "cell_type": "markdown",
   "id": "a4540865",
   "metadata": {},
   "source": [
    "## 4-10"
   ]
  },
  {
   "cell_type": "code",
   "execution_count": 73,
   "id": "d9527773",
   "metadata": {},
   "outputs": [
    {
     "name": "stdout",
     "output_type": "stream",
     "text": [
      "The first three items of the list are: \n",
      "1\n",
      "3\n",
      "5\n"
     ]
    }
   ],
   "source": [
    "print(\"The first three items of the list are: \")\n",
    "for odd_number in odd_numbers[:3]:\n",
    "    print(odd_number)"
   ]
  },
  {
   "cell_type": "code",
   "execution_count": 74,
   "id": "696d620d",
   "metadata": {},
   "outputs": [
    {
     "name": "stdout",
     "output_type": "stream",
     "text": [
      "The middle three items of the list are: \n",
      "9\n",
      "11\n",
      "13\n"
     ]
    }
   ],
   "source": [
    "print(\"The middle three items of the list are: \")\n",
    "for odd_number in odd_numbers[4:7]:\n",
    "    print(odd_number)"
   ]
  },
  {
   "cell_type": "code",
   "execution_count": 76,
   "id": "d759f5d0",
   "metadata": {},
   "outputs": [
    {
     "name": "stdout",
     "output_type": "stream",
     "text": [
      "The last three items of the list are: \n",
      "15\n",
      "17\n",
      "19\n"
     ]
    }
   ],
   "source": [
    "print(\"The last three items of the list are: \")\n",
    "for odd_number in odd_numbers[7:]:\n",
    "    print(odd_number)"
   ]
  },
  {
   "cell_type": "markdown",
   "id": "14ebf23d",
   "metadata": {},
   "source": [
    "## 4-11"
   ]
  },
  {
   "cell_type": "code",
   "execution_count": 77,
   "id": "f5512d71",
   "metadata": {},
   "outputs": [
    {
     "ename": "TypeError",
     "evalue": "can only concatenate str (not \"list\") to str",
     "output_type": "error",
     "traceback": [
      "\u001b[0;31m---------------------------------------------------------------------------\u001b[0m",
      "\u001b[0;31mTypeError\u001b[0m                                 Traceback (most recent call last)",
      "Cell \u001b[0;32mIn[77], line 4\u001b[0m\n\u001b[1;32m      2\u001b[0m friend_food\u001b[38;5;241m.\u001b[39mappend(\u001b[38;5;124m'\u001b[39m\u001b[38;5;124mbanh cuon\u001b[39m\u001b[38;5;124m'\u001b[39m)\n\u001b[1;32m      3\u001b[0m food\u001b[38;5;241m.\u001b[39mappend(\u001b[38;5;124m'\u001b[39m\u001b[38;5;124mbun bo\u001b[39m\u001b[38;5;124m'\u001b[39m)\n\u001b[0;32m----> 4\u001b[0m \u001b[38;5;28mprint\u001b[39m(\u001b[38;5;124m\"\u001b[39m\u001b[38;5;124mMy fav food are \u001b[39m\u001b[38;5;124m\"\u001b[39m \u001b[38;5;241m+\u001b[39m food)\n\u001b[1;32m      5\u001b[0m \u001b[38;5;28mprint\u001b[39m(\u001b[38;5;124m\"\u001b[39m\u001b[38;5;124mMy friend\u001b[39m\u001b[38;5;124m'\u001b[39m\u001b[38;5;124ms fav food are \u001b[39m\u001b[38;5;124m\"\u001b[39m \u001b[38;5;241m+\u001b[39m friend_food)\n",
      "\u001b[0;31mTypeError\u001b[0m: can only concatenate str (not \"list\") to str"
     ]
    }
   ],
   "source": [
    "friend_food = food[:]\n",
    "friend_food.append('banh cuon')\n",
    "food.append('bun bo')\n",
    "print(\"My fav food are \" + food)\n",
    "print(\"My friend's fav food are \" + friend_food)"
   ]
  },
  {
   "cell_type": "code",
   "execution_count": 78,
   "id": "ae091556",
   "metadata": {},
   "outputs": [
    {
     "name": "stdout",
     "output_type": "stream",
     "text": [
      "['banh xeo', 'banh dap', 'banh nam', 'bun bo']\n",
      "['banh xeo', 'banh dap', 'banh nam', 'banh cuon']\n"
     ]
    }
   ],
   "source": [
    "print(food)\n",
    "print(friend_food)"
   ]
  },
  {
   "cell_type": "code",
   "execution_count": 79,
   "id": "2b66bcd1",
   "metadata": {},
   "outputs": [
    {
     "ename": "SyntaxError",
     "evalue": "Missing parentheses in call to 'print'. Did you mean print(...)? (128262408.py, line 3)",
     "output_type": "error",
     "traceback": [
      "\u001b[0;36m  Cell \u001b[0;32mIn[79], line 3\u001b[0;36m\u001b[0m\n\u001b[0;31m    print fav_food\u001b[0m\n\u001b[0m    ^\u001b[0m\n\u001b[0;31mSyntaxError\u001b[0m\u001b[0;31m:\u001b[0m Missing parentheses in call to 'print'. Did you mean print(...)?\n"
     ]
    }
   ],
   "source": [
    "print(\"My fav food are \")\n",
    "for fav_food in food:\n",
    "    print fav_food\n",
    "    \n",
    "print(\"\\nMy friend's fav food are \")\n",
    "for fav_food in friend_food:\n",
    "    print fav_food"
   ]
  },
  {
   "cell_type": "code",
   "execution_count": 80,
   "id": "ea2fb534",
   "metadata": {},
   "outputs": [
    {
     "name": "stdout",
     "output_type": "stream",
     "text": [
      "My fav food are \n",
      "banh xeo\n",
      "banh dap\n",
      "banh nam\n",
      "bun bo\n",
      "\n",
      "My friend's fav food are \n",
      "banh xeo\n",
      "banh dap\n",
      "banh nam\n",
      "banh cuon\n"
     ]
    }
   ],
   "source": [
    "print(\"My fav food are \")\n",
    "for fav_food in food:\n",
    "    print(fav_food)\n",
    "    \n",
    "print(\"\\nMy friend's fav food are \")\n",
    "for fav_food in friend_food:\n",
    "    print(fav_food)"
   ]
  },
  {
   "cell_type": "code",
   "execution_count": null,
   "id": "dd2dde97",
   "metadata": {},
   "outputs": [],
   "source": []
  }
 ],
 "metadata": {
  "kernelspec": {
   "display_name": "Python 3 (ipykernel)",
   "language": "python",
   "name": "python3"
  },
  "language_info": {
   "codemirror_mode": {
    "name": "ipython",
    "version": 3
   },
   "file_extension": ".py",
   "mimetype": "text/x-python",
   "name": "python",
   "nbconvert_exporter": "python",
   "pygments_lexer": "ipython3",
   "version": "3.11.4"
  }
 },
 "nbformat": 4,
 "nbformat_minor": 5
}
