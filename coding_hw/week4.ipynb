{
 "cells": [
  {
   "cell_type": "markdown",
   "id": "c3f13db0",
   "metadata": {},
   "source": [
    "## 5-1"
   ]
  },
  {
   "cell_type": "code",
   "execution_count": 10,
   "id": "da7c547c",
   "metadata": {
    "scrolled": true
   },
   "outputs": [
    {
     "name": "stdout",
     "output_type": "stream",
     "text": [
      "Is cat == 'good boy'? I predict True.\n",
      "True\n",
      "Is cat == 'bad boy'? I predict False.\n",
      "False\n"
     ]
    }
   ],
   "source": [
    "cat = 'good boy'\n",
    "print(\"Is cat == 'good boy'? I predict True.\")\n",
    "print(cat == 'good boy')\n",
    "\n",
    "print(\"Is cat == 'bad boy'? I predict False.\")\n",
    "print(cat == 'bad boy')"
   ]
  },
  {
   "cell_type": "code",
   "execution_count": 11,
   "id": "37492d14",
   "metadata": {
    "scrolled": true
   },
   "outputs": [
    {
     "name": "stdout",
     "output_type": "stream",
     "text": [
      "Is food == 'yummy'? I predict True.\n",
      "False\n",
      "Is food == 'its ok'? I predict False.\n",
      "False\n"
     ]
    }
   ],
   "source": [
    "food = 'yummy'\n",
    "print(\"Is food == 'yummy'? I predict True.\")\n",
    "print(food == 'good boy')\n",
    "\n",
    "print(\"Is food == 'its ok'? I predict False.\")\n",
    "print(food == 'its ok')"
   ]
  },
  {
   "cell_type": "code",
   "execution_count": 12,
   "id": "0961cdbf",
   "metadata": {
    "scrolled": true
   },
   "outputs": [
    {
     "name": "stdout",
     "output_type": "stream",
     "text": [
      "Is sleep == 'well'? I predict True.\n",
      "True\n",
      "Is sleep == 'restlessly'? I predict False.\n",
      "False\n"
     ]
    }
   ],
   "source": [
    "sleep = 'well'\n",
    "print(\"Is sleep == 'well'? I predict True.\")\n",
    "print(sleep == 'well')\n",
    "\n",
    "print(\"Is sleep == 'restlessly'? I predict False.\")\n",
    "print(sleep == 'restlessly')"
   ]
  },
  {
   "cell_type": "code",
   "execution_count": 13,
   "id": "7ee02574",
   "metadata": {
    "scrolled": true
   },
   "outputs": [
    {
     "name": "stdout",
     "output_type": "stream",
     "text": [
      "Is super == 'shy'? I predict True.\n",
      "True\n",
      "Is super == 'bunny'? I predict False.\n",
      "False\n"
     ]
    }
   ],
   "source": [
    "super = 'shy'\n",
    "print(\"Is super == 'shy'? I predict True.\")\n",
    "print(super == 'shy')\n",
    "\n",
    "print(\"Is super == 'bunny'? I predict False.\")\n",
    "print(super == 'bunny')"
   ]
  },
  {
   "cell_type": "code",
   "execution_count": 14,
   "id": "059fd9ee",
   "metadata": {
    "scrolled": true
   },
   "outputs": [
    {
     "name": "stdout",
     "output_type": "stream",
     "text": [
      "Is weather == 'nice'? I predict True.\n",
      "True\n",
      "Is weather == 'depressing'? I predict False.\n",
      "False\n"
     ]
    }
   ],
   "source": [
    "weather = 'nice'\n",
    "print(\"Is weather == 'nice'? I predict True.\")\n",
    "print(weather == 'nice')\n",
    "\n",
    "print(\"Is weather == 'depressing'? I predict False.\")\n",
    "print(weather == 'depressing')"
   ]
  },
  {
   "cell_type": "markdown",
   "id": "4b49cc5e",
   "metadata": {},
   "source": [
    "## 5-2"
   ]
  },
  {
   "cell_type": "code",
   "execution_count": 17,
   "id": "d1ed6975",
   "metadata": {
    "scrolled": true
   },
   "outputs": [
    {
     "name": "stdout",
     "output_type": "stream",
     "text": [
      "Most recent mosquito bite is at the zoo. Result: False\n",
      "Most recent mosquito bite is at the park. Result: True\n"
     ]
    }
   ],
   "source": [
    "recent_mosquito_places = ['park','river','Boston Common','Allston','cementary']\n",
    "recent_mosquito = 'Boston Common'\n",
    "\n",
    "print('Most recent mosquito bite is at the zoo. Result:', recent_mosquito == 'zoo')\n",
    "print('Most recent mosquito bite is at the park. Result:', recent_mosquito != 'park')"
   ]
  },
  {
   "cell_type": "code",
   "execution_count": 21,
   "id": "3d0ce3e4",
   "metadata": {
    "scrolled": true
   },
   "outputs": [
    {
     "name": "stdout",
     "output_type": "stream",
     "text": [
      "Most recent mosquito bite is at the boston common. Result: True\n"
     ]
    }
   ],
   "source": [
    "print('Most recent mosquito bite is at the boston common. Result:', recent_mosquito.lower() == 'boston common')"
   ]
  },
  {
   "cell_type": "code",
   "execution_count": 29,
   "id": "81964b62",
   "metadata": {
    "scrolled": true
   },
   "outputs": [],
   "source": [
    "mosquito_bite1 = 4\n",
    "mosquito_bite2 = 6"
   ]
  },
  {
   "cell_type": "code",
   "execution_count": 30,
   "id": "e7b2737f",
   "metadata": {},
   "outputs": [
    {
     "data": {
      "text/plain": [
       "False"
      ]
     },
     "execution_count": 30,
     "metadata": {},
     "output_type": "execute_result"
    }
   ],
   "source": [
    "mosquito_bite1 > mosquito_bite2"
   ]
  },
  {
   "cell_type": "code",
   "execution_count": 31,
   "id": "93c038af",
   "metadata": {},
   "outputs": [
    {
     "data": {
      "text/plain": [
       "True"
      ]
     },
     "execution_count": 31,
     "metadata": {},
     "output_type": "execute_result"
    }
   ],
   "source": [
    "mosquito_bite1 < mosquito_bite2"
   ]
  },
  {
   "cell_type": "code",
   "execution_count": 32,
   "id": "74cf5864",
   "metadata": {},
   "outputs": [
    {
     "data": {
      "text/plain": [
       "False"
      ]
     },
     "execution_count": 32,
     "metadata": {},
     "output_type": "execute_result"
    }
   ],
   "source": [
    "mosquito_bite1 == mosquito_bite2"
   ]
  },
  {
   "cell_type": "code",
   "execution_count": 35,
   "id": "51d2199c",
   "metadata": {},
   "outputs": [
    {
     "data": {
      "text/plain": [
       "True"
      ]
     },
     "execution_count": 35,
     "metadata": {},
     "output_type": "execute_result"
    }
   ],
   "source": [
    "mosquito_bite1 != mosquito_bite2"
   ]
  },
  {
   "cell_type": "code",
   "execution_count": 36,
   "id": "4c7f9eac",
   "metadata": {},
   "outputs": [
    {
     "data": {
      "text/plain": [
       "True"
      ]
     },
     "execution_count": 36,
     "metadata": {},
     "output_type": "execute_result"
    }
   ],
   "source": [
    "mosquito_bite1 <= mosquito_bite2"
   ]
  },
  {
   "cell_type": "code",
   "execution_count": 37,
   "id": "f7e305a5",
   "metadata": {
    "scrolled": false
   },
   "outputs": [
    {
     "data": {
      "text/plain": [
       "False"
      ]
     },
     "execution_count": 37,
     "metadata": {},
     "output_type": "execute_result"
    }
   ],
   "source": [
    "mosquito_bite1 >= mosquito_bite2"
   ]
  },
  {
   "cell_type": "code",
   "execution_count": 38,
   "id": "e7de3f2a",
   "metadata": {
    "scrolled": true
   },
   "outputs": [
    {
     "name": "stdout",
     "output_type": "stream",
     "text": [
      "Most recent mosquito bite is at the boston common and the zoo. Result: False\n"
     ]
    }
   ],
   "source": [
    "print('Most recent mosquito bite is at the boston common and the zoo. Result:', recent_mosquito.lower() == 'boston common' and recent_mosquito.lower() == 'zoo')"
   ]
  },
  {
   "cell_type": "code",
   "execution_count": 39,
   "id": "a03b1cef",
   "metadata": {
    "scrolled": true
   },
   "outputs": [
    {
     "name": "stdout",
     "output_type": "stream",
     "text": [
      "Most recent mosquito bite is at the boston common or the zoo. Result: True\n"
     ]
    }
   ],
   "source": [
    "print('Most recent mosquito bite is at the boston common or the zoo. Result:', recent_mosquito.lower() == 'boston common' or recent_mosquito.lower() == 'zoo')"
   ]
  },
  {
   "cell_type": "code",
   "execution_count": 41,
   "id": "cefbd354",
   "metadata": {},
   "outputs": [
    {
     "name": "stdout",
     "output_type": "stream",
     "text": [
      "Most recent mosquito bite is NOT at the zoo\n"
     ]
    }
   ],
   "source": [
    "recent_mosquito = 'zoo'\n",
    "if recent_mosquito in recent_mosquito_places:\n",
    "    print('Most recent mosquito bite is at the zoo')\n",
    "else:\n",
    "    print('Most recent mosquito bite is NOT at the zoo')"
   ]
  },
  {
   "cell_type": "code",
   "execution_count": 42,
   "id": "78aa8967",
   "metadata": {},
   "outputs": [
    {
     "data": {
      "text/plain": [
       "False"
      ]
     },
     "execution_count": 42,
     "metadata": {},
     "output_type": "execute_result"
    }
   ],
   "source": [
    "'zoo' in recent_mosquito_places"
   ]
  },
  {
   "cell_type": "markdown",
   "id": "31dabbb6",
   "metadata": {},
   "source": [
    "## 5-6"
   ]
  },
  {
   "cell_type": "code",
   "execution_count": 43,
   "id": "74cbc964",
   "metadata": {},
   "outputs": [
    {
     "name": "stdout",
     "output_type": "stream",
     "text": [
      "The person is an adult\n"
     ]
    }
   ],
   "source": [
    "age = 23\n",
    "\n",
    "if age < 2:\n",
    "    print(\"The person is a baby\")\n",
    "elif age >= 2 and age < 4:\n",
    "    print(\"The person is a toddler\")\n",
    "elif age >= 4 and age < 13:\n",
    "    print(\"The person is a kid\")\n",
    "elif age >= 13 and age < 20:\n",
    "    print(\"The person is a teenager\")\n",
    "elif age >= 20 and age < 65:\n",
    "    print(\"The person is an adult\")\n",
    "elif age >= 65:\n",
    "    print(\"The person is an elder\")"
   ]
  },
  {
   "cell_type": "markdown",
   "id": "2907b3a7",
   "metadata": {},
   "source": [
    "## 5-7"
   ]
  },
  {
   "cell_type": "code",
   "execution_count": 44,
   "id": "c983e533",
   "metadata": {},
   "outputs": [
    {
     "name": "stdout",
     "output_type": "stream",
     "text": [
      "You like eating xoai\n",
      "You like eating coc\n",
      "You like eating oi\n"
     ]
    }
   ],
   "source": [
    "favorite_fruits = ['xoai','coc','oi']\n",
    "\n",
    "if 'xoai' in favorite_fruits:\n",
    "    print(\"You like eating xoai\")\n",
    "    \n",
    "if 'coc' in favorite_fruits:\n",
    "    print(\"You like eating coc\")\n",
    "    \n",
    "if 'oi' in favorite_fruits:\n",
    "    print(\"You like eating oi\")\n",
    "    "
   ]
  },
  {
   "cell_type": "markdown",
   "id": "5a0ef883",
   "metadata": {},
   "source": [
    "## 5-8"
   ]
  },
  {
   "cell_type": "code",
   "execution_count": 48,
   "id": "91d99b82",
   "metadata": {},
   "outputs": [
    {
     "name": "stdout",
     "output_type": "stream",
     "text": [
      "Hello admin, would you like to see a status report?\n",
      "Hello  keith , thank you for logging in again.\n",
      "Hello  quin , thank you for logging in again.\n",
      "Hello  khanh , thank you for logging in again.\n",
      "Hello  quynh , thank you for logging in again.\n"
     ]
    }
   ],
   "source": [
    "usernames = ['admin','keith','quin','khanh','quynh']\n",
    "\n",
    "for username in usernames:\n",
    "    if username == 'admin':\n",
    "        print('Hello admin, would you like to see a status report?')\n",
    "    else:\n",
    "        print('Hello ', username, ', thank you for logging in again.')\n"
   ]
  },
  {
   "cell_type": "markdown",
   "id": "47b5d204",
   "metadata": {},
   "source": [
    "## 5-9"
   ]
  },
  {
   "cell_type": "code",
   "execution_count": 49,
   "id": "5ecbad8f",
   "metadata": {
    "scrolled": true
   },
   "outputs": [
    {
     "name": "stdout",
     "output_type": "stream",
     "text": [
      "usernames list is not empty\n"
     ]
    }
   ],
   "source": [
    "if usernames:\n",
    "    print('usernames list is not empty')\n",
    "else:\n",
    "    print('list is empty')"
   ]
  },
  {
   "cell_type": "code",
   "execution_count": 50,
   "id": "f05d642f",
   "metadata": {},
   "outputs": [],
   "source": [
    "usernames = []"
   ]
  },
  {
   "cell_type": "code",
   "execution_count": 52,
   "id": "49204f97",
   "metadata": {},
   "outputs": [
    {
     "name": "stdout",
     "output_type": "stream",
     "text": [
      "We need to find some users!\n"
     ]
    }
   ],
   "source": [
    "if usernames:\n",
    "    print('usernames list is not empty')\n",
    "else:\n",
    "    print('We need to find some users!')"
   ]
  },
  {
   "cell_type": "markdown",
   "id": "a5212aef",
   "metadata": {},
   "source": [
    "## 5-10"
   ]
  },
  {
   "cell_type": "code",
   "execution_count": 53,
   "id": "d81a9417",
   "metadata": {},
   "outputs": [],
   "source": [
    "current_users = ['admin','keith','quin','khanh','quynh']\n",
    "new_users = ['khanh','quynh','nguyen thien thuat','hai ba trung']"
   ]
  },
  {
   "cell_type": "code",
   "execution_count": 55,
   "id": "d9e93afa",
   "metadata": {},
   "outputs": [
    {
     "name": "stdout",
     "output_type": "stream",
     "text": [
      "khanh  has already been used. Please enter a new username.\n",
      "quynh  has already been used. Please enter a new username.\n",
      "nguyen thien thuat  is available.\n",
      "hai ba trung  is available.\n"
     ]
    }
   ],
   "source": [
    "for new_user in new_users:\n",
    "    if new_user in current_users:\n",
    "        print(new_user,' has already been used. Please enter a new username.')\n",
    "    else:\n",
    "        print(new_user,' is available.')"
   ]
  },
  {
   "cell_type": "code",
   "execution_count": 56,
   "id": "466a7285",
   "metadata": {},
   "outputs": [
    {
     "name": "stdout",
     "output_type": "stream",
     "text": [
      "khanh has already been used. Please enter a new username.\n",
      "quynh has already been used. Please enter a new username.\n",
      "nguyen thien thuat is available.\n",
      "hai ba trung is available.\n"
     ]
    }
   ],
   "source": [
    "for new_user in new_users:\n",
    "    if new_user in current_users:\n",
    "        print(f\"{new_user} has already been used. Please enter a new username.\")\n",
    "    else:\n",
    "        print(f\"{new_user} is available.\")"
   ]
  },
  {
   "cell_type": "code",
   "execution_count": null,
   "id": "dbadd86d",
   "metadata": {},
   "outputs": [],
   "source": []
  }
 ],
 "metadata": {
  "kernelspec": {
   "display_name": "Python 3 (ipykernel)",
   "language": "python",
   "name": "python3"
  },
  "language_info": {
   "codemirror_mode": {
    "name": "ipython",
    "version": 3
   },
   "file_extension": ".py",
   "mimetype": "text/x-python",
   "name": "python",
   "nbconvert_exporter": "python",
   "pygments_lexer": "ipython3",
   "version": "3.11.4"
  }
 },
 "nbformat": 4,
 "nbformat_minor": 5
}
