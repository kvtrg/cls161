{
 "cells": [
  {
   "cell_type": "markdown",
   "id": "0ce19e72",
   "metadata": {},
   "source": [
    "## Initial Search and Explore Search Results"
   ]
  },
  {
   "cell_type": "code",
   "execution_count": 1,
   "id": "39a3cfd2",
   "metadata": {},
   "outputs": [],
   "source": [
    "# imports\n",
    "import requests\n",
    "import json\n",
    "import math\n",
    "import pandas as pd\n",
    "import spacy"
   ]
  },
  {
   "cell_type": "code",
   "execution_count": 2,
   "id": "a4e88c05",
   "metadata": {},
   "outputs": [],
   "source": [
    "# initial search\n",
    "url = 'https://chroniclingamerica.loc.gov/search/pages/results/?state=&date1=1770&date2=1963&proxtext=Vietnam&x=0&y=0&dateFilterType=yearRange&rows=20&searchType=basic&format=json'\n",
    "response = requests.get(url)\n",
    "raw = response.text\n",
    "results = json.loads(raw)"
   ]
  },
  {
   "cell_type": "code",
   "execution_count": 3,
   "id": "fe5ed0e9",
   "metadata": {},
   "outputs": [
    {
     "data": {
      "text/plain": [
       "dict_keys(['totalItems', 'endIndex', 'startIndex', 'itemsPerPage', 'items'])"
      ]
     },
     "execution_count": 3,
     "metadata": {},
     "output_type": "execute_result"
    }
   ],
   "source": [
    "# explore results\n",
    "results.keys()"
   ]
  },
  {
   "cell_type": "code",
   "execution_count": 4,
   "id": "2a6dff17",
   "metadata": {},
   "outputs": [
    {
     "name": "stdout",
     "output_type": "stream",
     "text": [
      "<class 'list'>\n"
     ]
    }
   ],
   "source": [
    "# explore items\n",
    "print(type(results['items']))"
   ]
  },
  {
   "cell_type": "code",
   "execution_count": 5,
   "id": "773f1868",
   "metadata": {},
   "outputs": [
    {
     "name": "stdout",
     "output_type": "stream",
     "text": [
      "{'sequence': 8, 'county': ['Saint Thomas'], 'edition': None, 'frequency': 'Daily (except Sunday)', 'id': '/lccn/sn83025327/1963-10-03/ed-1/seq-8/', 'subject': ['Charlotte Amalie (United States Virgin Islands)--Newspapers.', 'United States Virgin Islands--Charlotte Amalie.--fast--(OCoLC)fst01861757'], 'city': ['Charlotte Amalie'], 'date': '19631003', 'title': 'The Daily news of the Virgin Islands. [volume]', 'end_year': 1978, 'note': ['\"The only independent Virgin Islands newspaper serving the people of the Virgin Islands.\"', '40th anniversary ed., Aug. 1, 1970; 160 pp., 45th anniversary ed., Aug. 1, 1975. Contained ill. history of the islands and newspaper publishing in the territory.', 'Editor: Ariel Melchior, Sr., 1955-1964; Ariel Melchior, Jr., 1964-1976; John Thompson, Jan.-Apr. 1977; Carter Hague, Apr. 1977-May 1978.'], 'state': ['Virgin Islands'], 'section_label': '', 'type': 'page', 'place_of_publication': 'Charlotte Amalie, St. Thomas, V.I.', 'start_year': 1955, 'edition_label': '', 'publisher': '[Art Shop]', 'language': ['English'], 'alt_title': ['Daily news'], 'lccn': 'sn83025327', 'country': 'Virgin Islands of the United States', 'ocr_eng': '8\\nM WASHING\\nThe Allen-Scott Report\\nBy ROBERT S. ALLEN and PAUL SCOTT\\nAT\\nWASHINGTON — The dark fear of a U.S.-Soviet deal on\\nSouth Vietnam is forcing Prince Souvanna Phouma to make state\\n\" ments in public as different as night and day from his private ones.\\n: A key figure in the backstage diplomatic talks involving\\n~ Vietnam, the Prime Minister of Laos appears at times like a\\n. Soviet puppet in his public statements, supporting a solution of\\n. war-torn Vietnam parallel to the one instituted in his country.\\nIn private conversations, the charming Laotian Prince acts like\\n. @ modern Paul Revere, warning U.S. officials against forcing South\\nVietnam, his southern neighbor into a coalition government with\\n. Communist North Vietnam.\\n; If South Vietnam is neutralized, Prince Souvanna Phouma is\\nconvinced that the Communists would in a very short time take\\nover not only all of Vietnam but Southeast Asia as well.\\n‘ “A coalition government in Vietnam will not work,” Prince\\nSouvanna Phouma warned a group of legislators gathered at the\\nWashington residence of Under Secretary of State W. Averell\\nHarriman. “The Communists in the north are too well organized\\ni and armed. It would only be a matter of weeks before all of\\ni Vietnam would be in Communist hands.”\\n| “Didn’t you urge the formation of a coalition government in\\nSouth Vietnam in a recent statement in New York?” challenged\\n| Secretary Harriman, who privately is pushing for a political |\\n. solution of Vietnam.\\n, After a long silent glance at Harriman, who negotiated the\\n;. faltering coalition in Laos, Prince Souvanna Phouma turned to\\n| the sitting legislators and smiling broadly, said:\\ni “After hearing my plea, I believe you gentlemen will regard\\n{ my remarks in New York as being misquoted or misconstrued\\ni by the press. I believe that is the diplomatic way to express it.”\\ni INSIDE STORY\\nf Despite this timely warning that the U.S. can’t deal with the\\n; Communists in Vietnam, a powerful group of President Kennedy’s\\n; chief policy makers are continuing their backstage push for a\\ni coalition government in Vietnam.\\ni Headed by Secretary Harriman, these advisers argue that\\ni the price of a military victory in the dirty Vietnamese war is\\n[ higner than American vital interests can justiiy ana that the\\nj only alternative is a political solution.\\ni They stress that their position is supported by the findings\\ni of Defense Secretary Robert McNamara and General Maxwell\\n| Taylor, who went to Saigon on a special presidential fact-finding\\n{ Tmission,\\n¢ The first McNamara-Taylor cables indicate that the Communist\\n‘- guerrillas, the Viet Congs, cannot be defeated in Seuth Vietnam\\n{ as long as they have an open supply line to North Vietnam.\\nI Since it is U.S. policy not to extend the war into North Viet\\n{ nam, the Harriman group point out that a military solution is not\\n| possible.\\ni Tney contend that \"unification and neutralization of South\\n| Vietnam should be the basis for ending the war there. Once the\\n| Communists agree to that type of settlement, the U.S. should\\n| move to reconvene the Geneva Conference of 1954 and negotiate\\ni ihe agreement regardless of the position of South Vietnam’s\\n| President Diem. |\\n¥ The soft-line approach is being vigorously opposed by the Joint\\ni Chiefs of Staff. If necessary, they favor operating directly against\\ni1 North Vietham by bombing the supply lines to the Viet Cong\\ni Buerrillas in order to win the war. ‘\\n\\' President Kennedy, who is leaning toward a diplomatic settle- ‘\\n¢t ment, will make his fateful decision on Vietnam after Secretary\\n{ McNamara and General Taylor return with their recommendations.\\nil DIPLOMATIC WIRE\\nb Fresh from his secret talks with Soviet Premier Krushchev,\\n} Yuzoslavia\\'s Tito is reported carrying a Russian offer to Presi\\n. dent Kennedy to support a coalition government in South Vietnam.\\nZ\\' He will be the President’s personal guest at a “working luncheon”\\n¢ at the White House on Oct. 17. Tito, whe wants to do some travel- J\\n; ling in the U.S., is being politely told by the State Department that\\ni’ he should keep his junketing to stop 3in Washington, New York, |\\ni and California for his own safety. At least two Yugoslavian\\n¢ refugees now in the U.S. have vowed to try to kill the Communist\\n| dictator during his U.S. trip. Tito, who will speak at the United\\ni Nations on Oct. 22, plans to stay in the U.S. eight days. Speaker\\ni John McCormack, (D.-Mass.), has quietly blocked Tito from\\n: Speaking to a Joint Session of Congress by notifying the State\\n| Department that the Communist dictator was not welcome . . . .\\ni Roger Hilsman, Assistant Secretary of State for Far Eastern\\ni Affairs, has denied under oath before the House Foreign Affairs\\n- Committee that he sent a cable to U.S. Information Service officials\\ni dn Saigon, urging the Vietnamese Army to get rid of President\\n.+ Diem and his brother and sister-in-law, the highly publicized\\n¢ Ngo Dinh Nhus. Hilsman, once director of the State Department’s\\n; intelligence branch, is at loggerheads with William Bundy, As\\n© sistant Secretary of Defense for International Affairs. Bundy, a\\n.+ brother of Presidential Assistant MeGeorge -Bundy, is seeking -\\ni Hilsman’s key post in the State Department, according to friends\\n\\'of the latter. They have traced the leak of the story about the\\n|- diplomatic cable to Bundy’s office in the Pentagon, N\\nTHE DAILY ‘NEWS, THURSDAY, OCTOBER 3, 1963\\n- MIRROR OF YOUR \\'MIND\\nLI =<7] @Ty\\n~+3 wez . v N\\nW. “ \\\\\\\\‘ = ’ \\' /// }\\\\\\\\ \\\\//\\n4 B\\\\ ‘7:‘\\\\- < Ny /. -\\ni:% i T ¥\\n\\\\ \\'-[ \\' \\\\\\\\\\\\\\no g ‘)( \"( ‘ {\\nN,‘:..’:—JJ B YD 4 -«Y,;f\\'r%’\\nX\\nDoes shyness indicate inferiority?\" < %. 5\"\\nT Answer: Not always; some\\ntimes it conceals a feeling of\\nsuperiority. In that case, shye\\nness stems from a person’s fear\\nthat his high opinion of himself\\nmay not be validated if he\\nspeaks freely and exposes his\\npersonality to public view., By\\nkeeping his feeling of superior\\nity under wraps, he protects it\\nfrom attacks that he subcone\\nsciously fears may destroy it.\\nHis defense against this fear,\\nknown as the “Cinderella com\\nplex,” is a timidly cautious\\nl front, -~ - o\\n{\\nIOUR MAN ON THE MOON—III \\'\\nTake 0 S Race\\nThis is thc third of five arficles on Presicev’ Kennedy\\'s sudden\\nreversal of America’s “Race to the Moon” policy, as seen by ex\\ncoilgresswoman Clare Boothe Luce.\\nImmediately after the invasion\\ndisaster, the President called to\\ngether his space council mem-‘\\nbers: Chairman Vice President\\nLyndon Johnson, Secretary of\\nState Dean Rusk, Secretary of De\\nfense Robert McNamara, NASA\\'\\nAdministrator James Webb, and\\nAtomic Energy Commission Chair\\nman Dr. Glenn Seaborg.\\nAs a result of this meeting,\\nWebb took back to his agency a\\nspecific question posed by the\\nWhite House: ‘“What spectacular\\nprogram can we beat the Rus\\nsians at?”’ said Dr. Hugh Dryden,\\nDeputy Administrator of NASA,\\nlater, “We looked at all the alter\\nnatives and decided Apollo was the\\nearliest project in which we had\\na chance of coming out ahead.\\nPrestige is admittedly the reason\\nfor the pace of the program.”\\nPrestige, in the week of the Bay\\nof Pigs invasion and for some\\ntime after, was a commodity that\\nthe President, and consequently\\nthe entire nation was decidedly\\nshort of.\\nThus, in a matter of days after\\nthe invasion flop the President\\nreversed his own outer space\\npolicy as outlined in his inaugural\\naddress, and decided on a crash\\nmoon race program.\\nAfter one or two weeks’ ‘“hot”\\nstudy Webb handed Eisenhower’s\\nundeveloped project Apollo to\\nPresident Kennedy with a big, new\\n$40,000,000,000 price tag. The\\nPresident, understandably enough,\\nwas deeply engaged in trying to\\nmop up the diplomatic and politi\\ncal mess caused by the Bay of\\nPigs calamity.\\nHe doubtless had no time to\\nconsult personally about projeet\\nApollo with leaders of the Nation’s\\nscientific community or the gov\\n‘ernment .economists. > Neither did\\ns e T\\n!- .I‘-.\\'\"’ ni »CO nomic, m\\n. : ‘ ‘9\\\\\\\\ : ;\\n.\\' > 3 ;) )\\n\\' Vo, 0 .t < s\\ne RIF\\nIs drinking on the/ _ |\\n\\'O/ insease? !\\n~ Answer: The popular but in\\n. founded belief is that Americans\\n, are drinking more than ever be\\nfore. In novels published be\\n(© 1963, King Features Syndicate, Inc.)\\nNASA was certain to encounter.\\nThe problem of creating overnight\\nthe gigantic, nationwide industrial\\nand scientific complex necessary\\nto build project Apollo test and\\noperational rockets, and to train\\nlunarnauts was not apparently\\nworth studying. The President\\nsimply handed NASA’s quickly\\nwhipped up $40,000,000,000 pro\\ngram over to McNamara. Webb\\nand McNamara then spent a\\n| feverish Sunday afternoon draft\\n| ing the supporting document for\\nthe President to place before the\\n| Congress.\\n‘ Glamorous Moon Stories\\n, Congressional leaders were then\\n| informed of the President’s im\\n| pulsive decision to commit the\\nnation’s prestige to an astronomic\\n| ally costly moon race. Since the\\npresident had not taken time to\\n| come to grips with the multitudin\\n-WlHllllllllllllllllllllllllillllllllllllllllllllllllillllllllllllllllllllllllllllll’g_’\\n£ SAILING SCHEDULE s\\n=, - - I\\n=The M-V Santo Antonio:\\nS ATTENTION: The M/V Santo Antonio will accept S\\n= frozen, chill and general cargo sailing regularly every =\\n£ four weeks from Miami for St. Thomas. Next sailing =\\n£ date Oct. 11. Please take note that our sole agents and =\\n§ cargo receivers in Miami are Albury and Company, who g\\n= have reserved a large area for receiving freight te be =\\nE shipped on the Santo Anmtomio. Cargo should be =\\n; delivered only to Albury Terminals, McArthur Cause- =\\nway, Miami Beach, Florida, Box. 4221, Miami 1, Florida, £\\nPhone JE 1-3466. For further details contact Deery 2\\nAssociates, P.O. Box 888, St. Thomas, V.l, with offices S\\non .%he ,waterfmt.i\\' : =\\ntween 1900 and 1904 there were\\nfour references to alcohol per\\n100 pages of reading matter.\\nBetween 1946 and 1950 the num\\nber of references had increased\\n. by 5.9 per 100 pages. By con\\n: trast, the per capita consump\\n: tion of alcohol between 1900\\n-and 1904 was 2.39 gallons per\\n‘year. In the 1946-1950 period\\n“ this dropped to 2.06 gallons.\\n)\\nr ./ / —\\nP / 342\\n4 A &\\n£\\\\ L -9\\n@\\\\ v\\ni[t R\\n-/ Are women safer drivers\\n= than men? 3\\n/ Answer: A. R. Foster of Gen\\nyeral Motors Traffic Safety Sec\\n\" tion said that to date no evi\\ndence had been found that the\\nsex of a motorist is a signifi\\ncant factor in accidents. He\\nsaid male drivers are involved\\nin more than their share of ac\\ncidents, but their record is im\\nproving while that of women\\n‘drivers is getting worse. Ac\\ncurate information about mile- !\\nage and kinds of driving (night\\nversus day, urban versus rural,\\netc.) is not ava.ila._ble for each\\nseX. 7\\nS\\n)\\ne——————————————————————— . A———\\nous technical, eocnomic and pol\\nitical implications of the program,\\nunderstandably enough he did not\\nencourage the congressional lead\\ners to do so either. Meanwhile, a\\nsteady stream of glamorous moon\\nrace stories flowed to the press,\\nand into the headlines. These vied\\nwith, if they did not altogether\\nwipe out, the grim news from\\nCuba.\\nA Gallup Poll was taken in mid-\\nMay on the public reaction to a\\nnational lunar spectacular. A\\nstraight question was asked: “Do\\nyou want to spend $40,000,000,000\\nto go to the moon?” A whooping\\n58 per cent answered “No,” 33\\nper cent were for it, and 9 per\\ncent had no opinion. Unhappily,\\nas events have turned out, the\\nviews of the man in the street were\\nnot published until May 24th.\\nOn May 25th, a bare six weeks\\nafter the aborted invasion, Pregi\\ndent Kennedy mounted the hill to\\ndeliver a second State of the Union\\nmessage. He presented his cash\\nand-crash priority program for a\\nJunar touchdown to the Congress.\\nNow the President was no long\\ner interested in ‘‘avoiding the\\nterrors of science,” or in explor\\ning the stars together with Rus\\nsia. Instead, he asked the country\\nto reach the goal “before the\\ndecade is out, of landing a man\\non the moon and returning him\\n(See PRESIDENT, Page 14)', 'batch': 'vnstcsc_fredensdal_ver01', 'title_normal': 'daily news of the virgin islands.', 'url': 'https://chroniclingamerica.loc.gov/lccn/sn83025327/1963-10-03/ed-1/seq-8.json', 'place': ['Virgin Islands--Saint Thomas--Charlotte Amalie'], 'page': '8'}\n"
     ]
    }
   ],
   "source": [
    "# expore first item\n",
    "print(results['items'][0])"
   ]
  },
  {
   "cell_type": "code",
   "execution_count": 6,
   "id": "bb890e26",
   "metadata": {},
   "outputs": [
    {
     "name": "stdout",
     "output_type": "stream",
     "text": [
      "totalItems: 2353\n",
      "endIndex: 20\n",
      "startIndex: 1\n",
      "itemsPerPage: 20\n",
      "Length and type of items: 20 <class 'list'>\n"
     ]
    }
   ],
   "source": [
    "print('totalItems:', results['totalItems'])\n",
    "print('endIndex:', results['endIndex'])\n",
    "print('startIndex:', results['startIndex'])\n",
    "print('itemsPerPage:', results['itemsPerPage'])\n",
    "print('Length and type of items:', len(results['items']), type(results['items']))"
   ]
  },
  {
   "cell_type": "code",
   "execution_count": 7,
   "id": "1c7d4c33",
   "metadata": {},
   "outputs": [
    {
     "name": "stdout",
     "output_type": "stream",
     "text": [
      "118\n"
     ]
    }
   ],
   "source": [
    "# find total amount of pages\n",
    "total_pages = math.ceil(results['totalItems'] / results['itemsPerPage'])\n",
    "print(total_pages)"
   ]
  },
  {
   "cell_type": "markdown",
   "id": "7cfc682c",
   "metadata": {},
   "source": [
    "## Gather Search Results"
   ]
  },
  {
   "cell_type": "code",
   "execution_count": 8,
   "id": "a4262626",
   "metadata": {},
   "outputs": [],
   "source": [
    "# create empty list for data\n",
    "data = []"
   ]
  },
  {
   "cell_type": "code",
   "execution_count": 9,
   "id": "bb2aec4a",
   "metadata": {},
   "outputs": [],
   "source": [
    "# set search parameters\n",
    "start_date = '1770'\n",
    "end_date = '1865'\n",
    "search_term = 'Vietnam'"
   ]
  },
  {
   "cell_type": "code",
   "execution_count": 12,
   "id": "1880f013",
   "metadata": {},
   "outputs": [
    {
     "name": "stdout",
     "output_type": "stream",
     "text": [
      "page 1 status code: 200\n",
      "page 2 status code: 200\n",
      "page 3 status code: 200\n",
      "page 4 status code: 200\n",
      "page 5 status code: 200\n",
      "page 6 status code: 200\n",
      "page 7 status code: 200\n",
      "page 8 status code: 200\n",
      "page 9 status code: 200\n",
      "page 10 status code: 200\n",
      "page 11 status code: 200\n",
      "page 12 status code: 200\n",
      "page 13 status code: 200\n",
      "page 14 status code: 200\n",
      "page 15 status code: 200\n",
      "page 16 status code: 200\n",
      "page 17 status code: 200\n",
      "page 18 status code: 200\n",
      "page 19 status code: 200\n",
      "page 20 status code: 200\n",
      "page 21 status code: 200\n",
      "page 22 status code: 200\n",
      "page 23 status code: 200\n",
      "page 24 status code: 200\n",
      "page 25 status code: 200\n",
      "page 26 status code: 200\n",
      "page 27 status code: 200\n",
      "page 28 status code: 200\n",
      "page 29 status code: 200\n",
      "page 30 status code: 200\n",
      "page 31 status code: 200\n",
      "page 32 status code: 200\n",
      "page 33 status code: 200\n",
      "page 34 status code: 200\n",
      "page 35 status code: 200\n",
      "page 36 status code: 200\n",
      "page 37 status code: 200\n",
      "page 38 status code: 200\n",
      "page 39 status code: 200\n",
      "page 40 status code: 200\n",
      "page 41 status code: 200\n",
      "page 42 status code: 200\n",
      "page 43 status code: 200\n",
      "page 44 status code: 200\n",
      "page 45 status code: 200\n",
      "page 46 status code: 200\n",
      "page 47 status code: 200\n",
      "page 48 status code: 200\n",
      "page 49 status code: 200\n",
      "page 50 status code: 200\n",
      "page 51 status code: 200\n",
      "page 52 status code: 200\n",
      "page 53 status code: 200\n",
      "page 54 status code: 200\n",
      "page 55 status code: 200\n",
      "page 56 status code: 200\n",
      "page 57 status code: 200\n",
      "page 58 status code: 200\n",
      "page 59 status code: 200\n",
      "page 60 status code: 200\n",
      "page 61 status code: 200\n",
      "page 62 status code: 200\n",
      "page 63 status code: 200\n",
      "page 64 status code: 200\n",
      "page 65 status code: 200\n",
      "page 66 status code: 200\n",
      "page 67 status code: 200\n",
      "page 68 status code: 200\n",
      "page 69 status code: 200\n",
      "page 70 status code: 200\n",
      "page 71 status code: 200\n",
      "page 72 status code: 200\n",
      "page 73 status code: 200\n",
      "page 74 status code: 200\n",
      "page 75 status code: 200\n",
      "page 76 status code: 200\n",
      "page 77 status code: 200\n",
      "page 78 status code: 200\n",
      "page 79 status code: 200\n",
      "page 80 status code: 200\n",
      "page 81 status code: 200\n",
      "page 82 status code: 200\n",
      "page 83 status code: 200\n",
      "page 84 status code: 200\n",
      "page 85 status code: 200\n",
      "page 86 status code: 200\n",
      "page 87 status code: 200\n",
      "page 88 status code: 200\n",
      "page 89 status code: 200\n",
      "page 90 status code: 200\n",
      "page 91 status code: 200\n",
      "page 92 status code: 200\n",
      "page 93 status code: 200\n",
      "page 94 status code: 200\n",
      "page 95 status code: 200\n",
      "page 96 status code: 200\n",
      "page 97 status code: 200\n",
      "page 98 status code: 200\n",
      "page 99 status code: 200\n",
      "page 100 status code: 200\n",
      "page 101 status code: 200\n",
      "page 102 status code: 200\n",
      "page 103 status code: 200\n",
      "page 104 status code: 200\n",
      "page 105 status code: 200\n",
      "page 106 status code: 200\n",
      "page 107 status code: 200\n",
      "page 108 status code: 200\n",
      "page 109 status code: 200\n",
      "page 110 status code: 200\n",
      "page 111 status code: 200\n",
      "page 112 status code: 200\n",
      "page 113 status code: 200\n",
      "page 114 status code: 200\n",
      "page 115 status code: 200\n",
      "page 116 status code: 200\n",
      "page 117 status code: 200\n",
      "page 118 status code: 200\n"
     ]
    }
   ],
   "source": [
    "# loop through search results and collect data\n",
    "for i in range(1, total_pages + 1):  # for sake of time I'm doing only 10, you will want to put total_pages+1\n",
    "    url = (f'https://chroniclingamerica.loc.gov/search/pages/results/?state=&date1={start_date}'\n",
    "           f'&date2={end_date}&proxtext={search_term}&x=16&y=8&dateFilterType=yearRange&rows=20'\n",
    "           f'&searchType=basic&format=json&page={i}')  # f-string\n",
    "    response = requests.get(url)\n",
    "    raw = response.text\n",
    "    print(f'page {i} status code:', response.status_code)  # checking for errors\n",
    "    results = json.loads(raw)\n",
    "    items_ = results['items']\n",
    "    for item_ in items_:\n",
    "        row_data = {}\n",
    "        try:\n",
    "          row_data['title'] = item_['title_normal']\n",
    "        except:\n",
    "          row_data['title'] = \"none\"\n",
    "        try:\n",
    "          row_data['city'] = item_['city']\n",
    "        except:\n",
    "          row_data['city'] = \"none\"\n",
    "        try:\n",
    "          row_data['date'] = item_['date']\n",
    "        except:\n",
    "          row_data['date'] = \"none\"\n",
    "        try:\n",
    "          row_data['raw_text'] = item_['ocr_eng']\n",
    "        except:\n",
    "          row_data['raw_text'] = 'none'\n",
    "    data.append(row_data)"
   ]
  },
  {
   "cell_type": "code",
   "execution_count": 13,
   "id": "5e624105",
   "metadata": {},
   "outputs": [],
   "source": [
    "# put data into DataFrame\n",
    "df = pd.DataFrame.from_dict(data)"
   ]
  },
  {
   "cell_type": "code",
   "execution_count": 14,
   "id": "7265c366",
   "metadata": {},
   "outputs": [
    {
     "data": {
      "text/html": [
       "<div>\n",
       "<style scoped>\n",
       "    .dataframe tbody tr th:only-of-type {\n",
       "        vertical-align: middle;\n",
       "    }\n",
       "\n",
       "    .dataframe tbody tr th {\n",
       "        vertical-align: top;\n",
       "    }\n",
       "\n",
       "    .dataframe thead th {\n",
       "        text-align: right;\n",
       "    }\n",
       "</style>\n",
       "<table border=\"1\" class=\"dataframe\">\n",
       "  <thead>\n",
       "    <tr style=\"text-align: right;\">\n",
       "      <th></th>\n",
       "      <th>title</th>\n",
       "      <th>city</th>\n",
       "      <th>date</th>\n",
       "      <th>raw_text</th>\n",
       "    </tr>\n",
       "  </thead>\n",
       "  <tbody>\n",
       "    <tr>\n",
       "      <th>0</th>\n",
       "      <td>washington statesman.</td>\n",
       "      <td>[Walla Walla]</td>\n",
       "      <td>18630131</td>\n",
       "      <td>THE WASHINGTON STATESMAN.\\néAitr‘ESLY momenta,...</td>\n",
       "    </tr>\n",
       "    <tr>\n",
       "      <th>1</th>\n",
       "      <td>washington statesman.</td>\n",
       "      <td>[Walla Walla]</td>\n",
       "      <td>18630131</td>\n",
       "      <td>THE WASHINGTON STATESMAN.\\néAitr‘ESLY momenta,...</td>\n",
       "    </tr>\n",
       "    <tr>\n",
       "      <th>2</th>\n",
       "      <td>new york herald.</td>\n",
       "      <td>[New York]</td>\n",
       "      <td>18580811</td>\n",
       "      <td>DB SUMMER RETREAT8.~ !\\nOmjt M?uU?kl CotrMpuo^...</td>\n",
       "    </tr>\n",
       "    <tr>\n",
       "      <th>3</th>\n",
       "      <td>evansville daily journal.</td>\n",
       "      <td>[Evansville]</td>\n",
       "      <td>18651013</td>\n",
       "      <td>1.\\n4, . ' .\\n,\\n.\\n.17\\n,\\nI\\n4,\\n1\\nf\\n,\\n.\\...</td>\n",
       "    </tr>\n",
       "    <tr>\n",
       "      <th>4</th>\n",
       "      <td>washington statesman.</td>\n",
       "      <td>[Walla Walla]</td>\n",
       "      <td>18630131</td>\n",
       "      <td>THE WASHINGTON STATESMAN.\\néAitr‘ESLY momenta,...</td>\n",
       "    </tr>\n",
       "  </tbody>\n",
       "</table>\n",
       "</div>"
      ],
      "text/plain": [
       "                       title           city      date  \\\n",
       "0      washington statesman.  [Walla Walla]  18630131   \n",
       "1      washington statesman.  [Walla Walla]  18630131   \n",
       "2           new york herald.     [New York]  18580811   \n",
       "3  evansville daily journal.   [Evansville]  18651013   \n",
       "4      washington statesman.  [Walla Walla]  18630131   \n",
       "\n",
       "                                            raw_text  \n",
       "0  THE WASHINGTON STATESMAN.\\néAitr‘ESLY momenta,...  \n",
       "1  THE WASHINGTON STATESMAN.\\néAitr‘ESLY momenta,...  \n",
       "2  DB SUMMER RETREAT8.~ !\\nOmjt M?uU?kl CotrMpuo^...  \n",
       "3  1.\\n4, . ' .\\n,\\n.\\n.17\\n,\\nI\\n4,\\n1\\nf\\n,\\n.\\...  \n",
       "4  THE WASHINGTON STATESMAN.\\néAitr‘ESLY momenta,...  "
      ]
     },
     "execution_count": 14,
     "metadata": {},
     "output_type": "execute_result"
    }
   ],
   "source": [
    "# sanity check\n",
    "df.head()"
   ]
  },
  {
   "cell_type": "markdown",
   "id": "b02f2590",
   "metadata": {},
   "source": [
    "### Change Date Format"
   ]
  },
  {
   "cell_type": "code",
   "execution_count": 15,
   "id": "ec9523c3",
   "metadata": {},
   "outputs": [],
   "source": [
    "# convert date column from string to date-time object\n",
    "df['date'] = pd.to_datetime(df['date'])"
   ]
  },
  {
   "cell_type": "code",
   "execution_count": 16,
   "id": "b7750025",
   "metadata": {},
   "outputs": [
    {
     "data": {
      "text/html": [
       "<div>\n",
       "<style scoped>\n",
       "    .dataframe tbody tr th:only-of-type {\n",
       "        vertical-align: middle;\n",
       "    }\n",
       "\n",
       "    .dataframe tbody tr th {\n",
       "        vertical-align: top;\n",
       "    }\n",
       "\n",
       "    .dataframe thead th {\n",
       "        text-align: right;\n",
       "    }\n",
       "</style>\n",
       "<table border=\"1\" class=\"dataframe\">\n",
       "  <thead>\n",
       "    <tr style=\"text-align: right;\">\n",
       "      <th></th>\n",
       "      <th>title</th>\n",
       "      <th>city</th>\n",
       "      <th>date</th>\n",
       "      <th>raw_text</th>\n",
       "    </tr>\n",
       "  </thead>\n",
       "  <tbody>\n",
       "    <tr>\n",
       "      <th>0</th>\n",
       "      <td>washington statesman.</td>\n",
       "      <td>[Walla Walla]</td>\n",
       "      <td>1863-01-31</td>\n",
       "      <td>THE WASHINGTON STATESMAN.\\néAitr‘ESLY momenta,...</td>\n",
       "    </tr>\n",
       "    <tr>\n",
       "      <th>1</th>\n",
       "      <td>washington statesman.</td>\n",
       "      <td>[Walla Walla]</td>\n",
       "      <td>1863-01-31</td>\n",
       "      <td>THE WASHINGTON STATESMAN.\\néAitr‘ESLY momenta,...</td>\n",
       "    </tr>\n",
       "    <tr>\n",
       "      <th>2</th>\n",
       "      <td>new york herald.</td>\n",
       "      <td>[New York]</td>\n",
       "      <td>1858-08-11</td>\n",
       "      <td>DB SUMMER RETREAT8.~ !\\nOmjt M?uU?kl CotrMpuo^...</td>\n",
       "    </tr>\n",
       "    <tr>\n",
       "      <th>3</th>\n",
       "      <td>evansville daily journal.</td>\n",
       "      <td>[Evansville]</td>\n",
       "      <td>1865-10-13</td>\n",
       "      <td>1.\\n4, . ' .\\n,\\n.\\n.17\\n,\\nI\\n4,\\n1\\nf\\n,\\n.\\...</td>\n",
       "    </tr>\n",
       "    <tr>\n",
       "      <th>4</th>\n",
       "      <td>washington statesman.</td>\n",
       "      <td>[Walla Walla]</td>\n",
       "      <td>1863-01-31</td>\n",
       "      <td>THE WASHINGTON STATESMAN.\\néAitr‘ESLY momenta,...</td>\n",
       "    </tr>\n",
       "  </tbody>\n",
       "</table>\n",
       "</div>"
      ],
      "text/plain": [
       "                       title           city       date  \\\n",
       "0      washington statesman.  [Walla Walla] 1863-01-31   \n",
       "1      washington statesman.  [Walla Walla] 1863-01-31   \n",
       "2           new york herald.     [New York] 1858-08-11   \n",
       "3  evansville daily journal.   [Evansville] 1865-10-13   \n",
       "4      washington statesman.  [Walla Walla] 1863-01-31   \n",
       "\n",
       "                                            raw_text  \n",
       "0  THE WASHINGTON STATESMAN.\\néAitr‘ESLY momenta,...  \n",
       "1  THE WASHINGTON STATESMAN.\\néAitr‘ESLY momenta,...  \n",
       "2  DB SUMMER RETREAT8.~ !\\nOmjt M?uU?kl CotrMpuo^...  \n",
       "3  1.\\n4, . ' .\\n,\\n.\\n.17\\n,\\nI\\n4,\\n1\\nf\\n,\\n.\\...  \n",
       "4  THE WASHINGTON STATESMAN.\\néAitr‘ESLY momenta,...  "
      ]
     },
     "execution_count": 16,
     "metadata": {},
     "output_type": "execute_result"
    }
   ],
   "source": [
    "# sanity check\n",
    "df.head()"
   ]
  },
  {
   "cell_type": "code",
   "execution_count": 17,
   "id": "05e5d4a1",
   "metadata": {},
   "outputs": [],
   "source": [
    "# sort by date\n",
    "df = df.sort_values(by='date')"
   ]
  },
  {
   "cell_type": "code",
   "execution_count": 18,
   "id": "c5a57907",
   "metadata": {},
   "outputs": [
    {
     "data": {
      "text/html": [
       "<div>\n",
       "<style scoped>\n",
       "    .dataframe tbody tr th:only-of-type {\n",
       "        vertical-align: middle;\n",
       "    }\n",
       "\n",
       "    .dataframe tbody tr th {\n",
       "        vertical-align: top;\n",
       "    }\n",
       "\n",
       "    .dataframe thead th {\n",
       "        text-align: right;\n",
       "    }\n",
       "</style>\n",
       "<table border=\"1\" class=\"dataframe\">\n",
       "  <thead>\n",
       "    <tr style=\"text-align: right;\">\n",
       "      <th></th>\n",
       "      <th>title</th>\n",
       "      <th>city</th>\n",
       "      <th>date</th>\n",
       "      <th>raw_text</th>\n",
       "    </tr>\n",
       "  </thead>\n",
       "  <tbody>\n",
       "    <tr>\n",
       "      <th>2</th>\n",
       "      <td>new york herald.</td>\n",
       "      <td>[New York]</td>\n",
       "      <td>1858-08-11</td>\n",
       "      <td>DB SUMMER RETREAT8.~ !\\nOmjt M?uU?kl CotrMpuo^...</td>\n",
       "    </tr>\n",
       "    <tr>\n",
       "      <th>0</th>\n",
       "      <td>washington statesman.</td>\n",
       "      <td>[Walla Walla]</td>\n",
       "      <td>1863-01-31</td>\n",
       "      <td>THE WASHINGTON STATESMAN.\\néAitr‘ESLY momenta,...</td>\n",
       "    </tr>\n",
       "    <tr>\n",
       "      <th>86</th>\n",
       "      <td>washington statesman.</td>\n",
       "      <td>[Walla Walla]</td>\n",
       "      <td>1863-01-31</td>\n",
       "      <td>THE WASHINGTON STATESMAN.\\néAitr‘ESLY momenta,...</td>\n",
       "    </tr>\n",
       "    <tr>\n",
       "      <th>85</th>\n",
       "      <td>washington statesman.</td>\n",
       "      <td>[Walla Walla]</td>\n",
       "      <td>1863-01-31</td>\n",
       "      <td>THE WASHINGTON STATESMAN.\\néAitr‘ESLY momenta,...</td>\n",
       "    </tr>\n",
       "    <tr>\n",
       "      <th>84</th>\n",
       "      <td>washington statesman.</td>\n",
       "      <td>[Walla Walla]</td>\n",
       "      <td>1863-01-31</td>\n",
       "      <td>THE WASHINGTON STATESMAN.\\néAitr‘ESLY momenta,...</td>\n",
       "    </tr>\n",
       "  </tbody>\n",
       "</table>\n",
       "</div>"
      ],
      "text/plain": [
       "                    title           city       date  \\\n",
       "2        new york herald.     [New York] 1858-08-11   \n",
       "0   washington statesman.  [Walla Walla] 1863-01-31   \n",
       "86  washington statesman.  [Walla Walla] 1863-01-31   \n",
       "85  washington statesman.  [Walla Walla] 1863-01-31   \n",
       "84  washington statesman.  [Walla Walla] 1863-01-31   \n",
       "\n",
       "                                             raw_text  \n",
       "2   DB SUMMER RETREAT8.~ !\\nOmjt M?uU?kl CotrMpuo^...  \n",
       "0   THE WASHINGTON STATESMAN.\\néAitr‘ESLY momenta,...  \n",
       "86  THE WASHINGTON STATESMAN.\\néAitr‘ESLY momenta,...  \n",
       "85  THE WASHINGTON STATESMAN.\\néAitr‘ESLY momenta,...  \n",
       "84  THE WASHINGTON STATESMAN.\\néAitr‘ESLY momenta,...  "
      ]
     },
     "execution_count": 18,
     "metadata": {},
     "output_type": "execute_result"
    }
   ],
   "source": [
    "# sanity check\n",
    "df.head()"
   ]
  },
  {
   "cell_type": "markdown",
   "id": "e871770b",
   "metadata": {},
   "source": [
    "### Process search results"
   ]
  },
  {
   "cell_type": "code",
   "execution_count": 19,
   "id": "d6ef3529",
   "metadata": {},
   "outputs": [],
   "source": [
    "# write fuction to process text\n",
    "# load nlp model\n",
    "nlp = spacy.load(\"en_core_web_sm\")\n",
    "nlp.disable_pipes('ner', 'parser')  # these are unnecessary for the task at hand\n",
    "\n",
    "def process_text(text):\n",
    "    \"\"\"Remove new line characters and lemmatize text. Returns string of lemmas\"\"\"\n",
    "    text = text.replace('\\n', ' ')\n",
    "    doc = nlp(text)\n",
    "    tokens = [token for token in doc]\n",
    "    no_stops = [token for token in tokens if not token.is_stop]\n",
    "    no_punct = [token for token in no_stops if token.is_alpha]\n",
    "    lemmas = [token.lemma_ for token in no_punct]\n",
    "    lemmas_lower = [lemma.lower() for lemma in lemmas]\n",
    "    lemmas_string = ' '.join(lemmas_lower)\n",
    "    return lemmas_string"
   ]
  },
  {
   "cell_type": "code",
   "execution_count": 20,
   "id": "d8ec6370",
   "metadata": {},
   "outputs": [],
   "source": [
    "# apply process_text function\n",
    "# this may take a few minutes\n",
    "df['lemmas'] = df['raw_text'].apply(process_text)"
   ]
  },
  {
   "cell_type": "code",
   "execution_count": 21,
   "id": "50bc9889",
   "metadata": {},
   "outputs": [
    {
     "data": {
      "text/html": [
       "<div>\n",
       "<style scoped>\n",
       "    .dataframe tbody tr th:only-of-type {\n",
       "        vertical-align: middle;\n",
       "    }\n",
       "\n",
       "    .dataframe tbody tr th {\n",
       "        vertical-align: top;\n",
       "    }\n",
       "\n",
       "    .dataframe thead th {\n",
       "        text-align: right;\n",
       "    }\n",
       "</style>\n",
       "<table border=\"1\" class=\"dataframe\">\n",
       "  <thead>\n",
       "    <tr style=\"text-align: right;\">\n",
       "      <th></th>\n",
       "      <th>title</th>\n",
       "      <th>city</th>\n",
       "      <th>date</th>\n",
       "      <th>raw_text</th>\n",
       "      <th>lemmas</th>\n",
       "    </tr>\n",
       "  </thead>\n",
       "  <tbody>\n",
       "    <tr>\n",
       "      <th>2</th>\n",
       "      <td>new york herald.</td>\n",
       "      <td>[New York]</td>\n",
       "      <td>1858-08-11</td>\n",
       "      <td>DB SUMMER RETREAT8.~ !\\nOmjt M?uU?kl CotrMpuo^...</td>\n",
       "      <td>db summer omjt tiir dinboana norm movtuai augu...</td>\n",
       "    </tr>\n",
       "    <tr>\n",
       "      <th>0</th>\n",
       "      <td>washington statesman.</td>\n",
       "      <td>[Walla Walla]</td>\n",
       "      <td>1863-01-31</td>\n",
       "      <td>THE WASHINGTON STATESMAN.\\néAitr‘ESLY momenta,...</td>\n",
       "      <td>washington statesman momenta bepreciation lost...</td>\n",
       "    </tr>\n",
       "    <tr>\n",
       "      <th>86</th>\n",
       "      <td>washington statesman.</td>\n",
       "      <td>[Walla Walla]</td>\n",
       "      <td>1863-01-31</td>\n",
       "      <td>THE WASHINGTON STATESMAN.\\néAitr‘ESLY momenta,...</td>\n",
       "      <td>washington statesman momenta bepreciation lost...</td>\n",
       "    </tr>\n",
       "    <tr>\n",
       "      <th>85</th>\n",
       "      <td>washington statesman.</td>\n",
       "      <td>[Walla Walla]</td>\n",
       "      <td>1863-01-31</td>\n",
       "      <td>THE WASHINGTON STATESMAN.\\néAitr‘ESLY momenta,...</td>\n",
       "      <td>washington statesman momenta bepreciation lost...</td>\n",
       "    </tr>\n",
       "    <tr>\n",
       "      <th>84</th>\n",
       "      <td>washington statesman.</td>\n",
       "      <td>[Walla Walla]</td>\n",
       "      <td>1863-01-31</td>\n",
       "      <td>THE WASHINGTON STATESMAN.\\néAitr‘ESLY momenta,...</td>\n",
       "      <td>washington statesman momenta bepreciation lost...</td>\n",
       "    </tr>\n",
       "  </tbody>\n",
       "</table>\n",
       "</div>"
      ],
      "text/plain": [
       "                    title           city       date  \\\n",
       "2        new york herald.     [New York] 1858-08-11   \n",
       "0   washington statesman.  [Walla Walla] 1863-01-31   \n",
       "86  washington statesman.  [Walla Walla] 1863-01-31   \n",
       "85  washington statesman.  [Walla Walla] 1863-01-31   \n",
       "84  washington statesman.  [Walla Walla] 1863-01-31   \n",
       "\n",
       "                                             raw_text  \\\n",
       "2   DB SUMMER RETREAT8.~ !\\nOmjt M?uU?kl CotrMpuo^...   \n",
       "0   THE WASHINGTON STATESMAN.\\néAitr‘ESLY momenta,...   \n",
       "86  THE WASHINGTON STATESMAN.\\néAitr‘ESLY momenta,...   \n",
       "85  THE WASHINGTON STATESMAN.\\néAitr‘ESLY momenta,...   \n",
       "84  THE WASHINGTON STATESMAN.\\néAitr‘ESLY momenta,...   \n",
       "\n",
       "                                               lemmas  \n",
       "2   db summer omjt tiir dinboana norm movtuai augu...  \n",
       "0   washington statesman momenta bepreciation lost...  \n",
       "86  washington statesman momenta bepreciation lost...  \n",
       "85  washington statesman momenta bepreciation lost...  \n",
       "84  washington statesman momenta bepreciation lost...  "
      ]
     },
     "execution_count": 21,
     "metadata": {},
     "output_type": "execute_result"
    }
   ],
   "source": [
    "df.head()"
   ]
  },
  {
   "cell_type": "code",
   "execution_count": 22,
   "id": "97373025",
   "metadata": {},
   "outputs": [],
   "source": [
    "# save to csv\n",
    "df.to_csv(f'{search_term}{start_date}-{end_date}.csv', index=False)"
   ]
  }
 ],
 "metadata": {
  "kernelspec": {
   "display_name": "Python 3 (ipykernel)",
   "language": "python",
   "name": "python3"
  },
  "language_info": {
   "codemirror_mode": {
    "name": "ipython",
    "version": 3
   },
   "file_extension": ".py",
   "mimetype": "text/x-python",
   "name": "python",
   "nbconvert_exporter": "python",
   "pygments_lexer": "ipython3",
   "version": "3.11.4"
  }
 },
 "nbformat": 4,
 "nbformat_minor": 5
}
