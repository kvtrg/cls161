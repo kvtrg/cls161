{
 "cells": [
  {
   "cell_type": "markdown",
   "id": "d6f31381",
   "metadata": {},
   "source": [
    "### set up"
   ]
  },
  {
   "cell_type": "code",
   "execution_count": 1,
   "id": "025a9df6",
   "metadata": {},
   "outputs": [],
   "source": [
    "# imports\n",
    "import requests\n",
    "import pandas as pd\n",
    "import spacy"
   ]
  },
  {
   "cell_type": "code",
   "execution_count": 2,
   "id": "b4c56a6d",
   "metadata": {},
   "outputs": [
    {
     "data": {
      "text/plain": [
       "['ner', 'parser']"
      ]
     },
     "execution_count": 2,
     "metadata": {},
     "output_type": "execute_result"
    }
   ],
   "source": [
    "nlp = spacy.load(\"en_core_web_sm\")\n",
    "nlp.disable_pipes('ner', 'parser')"
   ]
  },
  {
   "cell_type": "markdown",
   "id": "6967e547",
   "metadata": {},
   "source": [
    "### functions to get text, split text into paragraphs, organize paragraphs, and lemmatize text"
   ]
  },
  {
   "cell_type": "code",
   "execution_count": 24,
   "id": "6887b2aa",
   "metadata": {},
   "outputs": [],
   "source": [
    "# make a function for all the above\n",
    "def get_text(url):\n",
    "    response = requests.get(url)\n",
    "    text = response.text\n",
    "    return text"
   ]
  },
  {
   "cell_type": "code",
   "execution_count": 25,
   "id": "02cf539f",
   "metadata": {},
   "outputs": [],
   "source": [
    "def divide_paras(text, start, end, para_break):\n",
    "    text = text[start:end]\n",
    "    paras = text.split(para_break)\n",
    "    return paras"
   ]
  },
  {
   "cell_type": "code",
   "execution_count": 26,
   "id": "2ed9d541",
   "metadata": {},
   "outputs": [],
   "source": [
    "def make_df(author, title, paras):\n",
    "    df = pd.DataFrame(paras, columns=['text'])\n",
    "    df.insert(0, \"author\", author)\n",
    "    df.insert(1, \"title\", title)\n",
    "    return df"
   ]
  },
  {
   "cell_type": "code",
   "execution_count": 27,
   "id": "191dcb39",
   "metadata": {},
   "outputs": [],
   "source": [
    "# get text\n",
    "text = get_text('https://www.gutenberg.org/cache/epub/72452/pg72452.txt')"
   ]
  },
  {
   "cell_type": "code",
   "execution_count": 28,
   "id": "2cfcfc39",
   "metadata": {},
   "outputs": [],
   "source": [
    "# set start index\n",
    "start = text.find('IF the desire of literary fame were')"
   ]
  },
  {
   "cell_type": "code",
   "execution_count": 29,
   "id": "b3c8b0fe",
   "metadata": {},
   "outputs": [
    {
     "data": {
      "text/plain": [
       "1941"
      ]
     },
     "execution_count": 29,
     "metadata": {},
     "output_type": "execute_result"
    }
   ],
   "source": [
    "# sanity check\n",
    "start"
   ]
  },
  {
   "cell_type": "code",
   "execution_count": 31,
   "id": "114102be",
   "metadata": {},
   "outputs": [],
   "source": [
    "# set end index\n",
    "end = text.find('*** END OF THE PROJECT GUTENBERG EBOOK TRAVELS IN AFRICA, EGYPT, AND SYRIA FROM THE YEAR 1792 TO 1798 ***') - 1"
   ]
  },
  {
   "cell_type": "code",
   "execution_count": 33,
   "id": "6ea5a08b",
   "metadata": {},
   "outputs": [
    {
     "data": {
      "text/plain": [
       "817453"
      ]
     },
     "execution_count": 33,
     "metadata": {},
     "output_type": "execute_result"
    }
   ],
   "source": [
    "#sanity check\n",
    "end"
   ]
  },
  {
   "cell_type": "code",
   "execution_count": 34,
   "id": "92e99704",
   "metadata": {},
   "outputs": [],
   "source": [
    "# set paragraph break\n",
    "para_break = '\\r\\n\\r\\n'"
   ]
  },
  {
   "cell_type": "code",
   "execution_count": 41,
   "id": "52058e42",
   "metadata": {},
   "outputs": [],
   "source": [
    "# divide text into paragraphs\n",
    "travels_paras = divide_paras(text=text, start=start, end=end, para_break='\\r\\n\\r\\n')"
   ]
  },
  {
   "cell_type": "code",
   "execution_count": 42,
   "id": "6df01393",
   "metadata": {},
   "outputs": [],
   "source": [
    "# make DataFrame\n",
    "travels_df = make_df(author=\"Browns\", title=\"Travels\", paras=expectations_paras)"
   ]
  },
  {
   "cell_type": "code",
   "execution_count": 43,
   "id": "e983fa08",
   "metadata": {},
   "outputs": [
    {
     "data": {
      "text/html": [
       "<div>\n",
       "<style scoped>\n",
       "    .dataframe tbody tr th:only-of-type {\n",
       "        vertical-align: middle;\n",
       "    }\n",
       "\n",
       "    .dataframe tbody tr th {\n",
       "        vertical-align: top;\n",
       "    }\n",
       "\n",
       "    .dataframe thead th {\n",
       "        text-align: right;\n",
       "    }\n",
       "</style>\n",
       "<table border=\"1\" class=\"dataframe\">\n",
       "  <thead>\n",
       "    <tr style=\"text-align: right;\">\n",
       "      <th></th>\n",
       "      <th>author</th>\n",
       "      <th>title</th>\n",
       "      <th>text</th>\n",
       "    </tr>\n",
       "  </thead>\n",
       "  <tbody>\n",
       "    <tr>\n",
       "      <th>0</th>\n",
       "      <td>Browns</td>\n",
       "      <td>Travels</td>\n",
       "      <td>IF the desire of literary fame were the chief ...</td>\n",
       "    </tr>\n",
       "    <tr>\n",
       "      <th>1</th>\n",
       "      <td>Browns</td>\n",
       "      <td>Travels</td>\n",
       "      <td>The retrospect on the events of his life which...</td>\n",
       "    </tr>\n",
       "    <tr>\n",
       "      <th>2</th>\n",
       "      <td>Browns</td>\n",
       "      <td>Travels</td>\n",
       "      <td>But their descriptions, when given without the...</td>\n",
       "    </tr>\n",
       "    <tr>\n",
       "      <th>3</th>\n",
       "      <td>Browns</td>\n",
       "      <td>Travels</td>\n",
       "      <td>The writer is aware, that when the length of t...</td>\n",
       "    </tr>\n",
       "    <tr>\n",
       "      <th>4</th>\n",
       "      <td>Browns</td>\n",
       "      <td>Travels</td>\n",
       "      <td>A more creative imagination would have drawn m...</td>\n",
       "    </tr>\n",
       "  </tbody>\n",
       "</table>\n",
       "</div>"
      ],
      "text/plain": [
       "   author    title                                               text\n",
       "0  Browns  Travels  IF the desire of literary fame were the chief ...\n",
       "1  Browns  Travels  The retrospect on the events of his life which...\n",
       "2  Browns  Travels  But their descriptions, when given without the...\n",
       "3  Browns  Travels  The writer is aware, that when the length of t...\n",
       "4  Browns  Travels  A more creative imagination would have drawn m..."
      ]
     },
     "execution_count": 43,
     "metadata": {},
     "output_type": "execute_result"
    }
   ],
   "source": [
    "# sanity check\n",
    "travels_df.head()"
   ]
  },
  {
   "cell_type": "code",
   "execution_count": 44,
   "id": "523cc357",
   "metadata": {},
   "outputs": [],
   "source": [
    "# extract lemmas\n",
    "travels_df['lemmas'] = travels_df['text'].apply(process_text)"
   ]
  },
  {
   "cell_type": "markdown",
   "id": "5ff778a7",
   "metadata": {},
   "source": [
    "### filter dataframes"
   ]
  },
  {
   "cell_type": "code",
   "execution_count": 45,
   "id": "111c7b7e",
   "metadata": {},
   "outputs": [],
   "source": [
    "# filter out strings shorter than 25 characters\n",
    "length_filter = travels_df['lemmas'].str.len() > 25"
   ]
  },
  {
   "cell_type": "code",
   "execution_count": 46,
   "id": "26956b1f",
   "metadata": {},
   "outputs": [],
   "source": [
    "filter_df = travels_df[length_filter]"
   ]
  },
  {
   "cell_type": "code",
   "execution_count": 47,
   "id": "412860ad",
   "metadata": {},
   "outputs": [
    {
     "data": {
      "text/html": [
       "<div>\n",
       "<style scoped>\n",
       "    .dataframe tbody tr th:only-of-type {\n",
       "        vertical-align: middle;\n",
       "    }\n",
       "\n",
       "    .dataframe tbody tr th {\n",
       "        vertical-align: top;\n",
       "    }\n",
       "\n",
       "    .dataframe thead th {\n",
       "        text-align: right;\n",
       "    }\n",
       "</style>\n",
       "<table border=\"1\" class=\"dataframe\">\n",
       "  <thead>\n",
       "    <tr style=\"text-align: right;\">\n",
       "      <th></th>\n",
       "      <th>author</th>\n",
       "      <th>title</th>\n",
       "      <th>text</th>\n",
       "      <th>lemmas</th>\n",
       "    </tr>\n",
       "  </thead>\n",
       "  <tbody>\n",
       "    <tr>\n",
       "      <th>0</th>\n",
       "      <td>Browns</td>\n",
       "      <td>Travels</td>\n",
       "      <td>IF the desire of literary fame were the chief ...</td>\n",
       "      <td>desire literary fame chief motive submit publi...</td>\n",
       "    </tr>\n",
       "    <tr>\n",
       "      <th>1</th>\n",
       "      <td>Browns</td>\n",
       "      <td>Travels</td>\n",
       "      <td>The retrospect on the events of his life which...</td>\n",
       "      <td>retrospect event life briefly mention ensue pa...</td>\n",
       "    </tr>\n",
       "    <tr>\n",
       "      <th>2</th>\n",
       "      <td>Browns</td>\n",
       "      <td>Travels</td>\n",
       "      <td>But their descriptions, when given without the...</td>\n",
       "      <td>description give small appearance interested v...</td>\n",
       "    </tr>\n",
       "    <tr>\n",
       "      <th>3</th>\n",
       "      <td>Browns</td>\n",
       "      <td>Travels</td>\n",
       "      <td>The writer is aware, that when the length of t...</td>\n",
       "      <td>writer aware length time pass dar fûr consider...</td>\n",
       "    </tr>\n",
       "    <tr>\n",
       "      <th>4</th>\n",
       "      <td>Browns</td>\n",
       "      <td>Travels</td>\n",
       "      <td>A more creative imagination would have drawn m...</td>\n",
       "      <td>creative imagination draw animated picture min...</td>\n",
       "    </tr>\n",
       "  </tbody>\n",
       "</table>\n",
       "</div>"
      ],
      "text/plain": [
       "   author    title                                               text  \\\n",
       "0  Browns  Travels  IF the desire of literary fame were the chief ...   \n",
       "1  Browns  Travels  The retrospect on the events of his life which...   \n",
       "2  Browns  Travels  But their descriptions, when given without the...   \n",
       "3  Browns  Travels  The writer is aware, that when the length of t...   \n",
       "4  Browns  Travels  A more creative imagination would have drawn m...   \n",
       "\n",
       "                                              lemmas  \n",
       "0  desire literary fame chief motive submit publi...  \n",
       "1  retrospect event life briefly mention ensue pa...  \n",
       "2  description give small appearance interested v...  \n",
       "3  writer aware length time pass dar fûr consider...  \n",
       "4  creative imagination draw animated picture min...  "
      ]
     },
     "execution_count": 47,
     "metadata": {},
     "output_type": "execute_result"
    }
   ],
   "source": [
    "filter_df.head()"
   ]
  },
  {
   "cell_type": "code",
   "execution_count": 48,
   "id": "f7860fd9",
   "metadata": {},
   "outputs": [],
   "source": [
    "def remove_new_lines(text):\n",
    "    text = text.replace('\\n', ' ')\n",
    "    text = text.replace('\\r', ' ')\n",
    "    return text"
   ]
  },
  {
   "cell_type": "code",
   "execution_count": 49,
   "id": "43b5a996",
   "metadata": {},
   "outputs": [
    {
     "name": "stderr",
     "output_type": "stream",
     "text": [
      "/var/folders/hd/ks_4zk0x1tddy37g14cg02qw0000gn/T/ipykernel_33625/872223428.py:2: SettingWithCopyWarning: \n",
      "A value is trying to be set on a copy of a slice from a DataFrame.\n",
      "Try using .loc[row_indexer,col_indexer] = value instead\n",
      "\n",
      "See the caveats in the documentation: https://pandas.pydata.org/pandas-docs/stable/user_guide/indexing.html#returning-a-view-versus-a-copy\n",
      "  filter_df['text'] = filter_df['text'].apply(remove_new_lines)\n"
     ]
    }
   ],
   "source": [
    "# apply above function, you can ignore the warning.\n",
    "filter_df['text'] = filter_df['text'].apply(remove_new_lines)"
   ]
  },
  {
   "cell_type": "code",
   "execution_count": 50,
   "id": "882d66df",
   "metadata": {},
   "outputs": [],
   "source": [
    "# save our work\n",
    "filter_df.to_csv('browne_travels.csv', index=False)"
   ]
  },
  {
   "cell_type": "code",
   "execution_count": null,
   "id": "0e5f37c9",
   "metadata": {},
   "outputs": [],
   "source": []
  },
  {
   "cell_type": "code",
   "execution_count": null,
   "id": "bcc51f7b",
   "metadata": {},
   "outputs": [],
   "source": []
  }
 ],
 "metadata": {
  "kernelspec": {
   "display_name": "Python 3 (ipykernel)",
   "language": "python",
   "name": "python3"
  },
  "language_info": {
   "codemirror_mode": {
    "name": "ipython",
    "version": 3
   },
   "file_extension": ".py",
   "mimetype": "text/x-python",
   "name": "python",
   "nbconvert_exporter": "python",
   "pygments_lexer": "ipython3",
   "version": "3.11.4"
  }
 },
 "nbformat": 4,
 "nbformat_minor": 5
}
