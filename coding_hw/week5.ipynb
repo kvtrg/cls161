{
 "cells": [
  {
   "cell_type": "markdown",
   "id": "28f1181f",
   "metadata": {},
   "source": [
    "## 6-1"
   ]
  },
  {
   "cell_type": "code",
   "execution_count": 1,
   "id": "b499e521",
   "metadata": {},
   "outputs": [],
   "source": [
    "person = {\n",
    "    'first name' : 'thien thuat',\n",
    "    'last name' : 'nguyen thi',\n",
    "    'age' : '23',\n",
    "    'city' : 'saigon'\n",
    "}"
   ]
  },
  {
   "cell_type": "code",
   "execution_count": 2,
   "id": "5410dfac",
   "metadata": {},
   "outputs": [
    {
     "name": "stdout",
     "output_type": "stream",
     "text": [
      "This person name is  nguyen thi thien thuat\n"
     ]
    }
   ],
   "source": [
    "print(\"This person name is \", person['lastname'], person['firstname'])"
   ]
  },
  {
   "cell_type": "code",
   "execution_count": 3,
   "id": "617bf7a4",
   "metadata": {
    "scrolled": true
   },
   "outputs": [
    {
     "name": "stdout",
     "output_type": "stream",
     "text": [
      "This person age is 23\n"
     ]
    }
   ],
   "source": [
    "print(\"This person age is\", person['age'])"
   ]
  },
  {
   "cell_type": "code",
   "execution_count": 4,
   "id": "9bfb98cf",
   "metadata": {},
   "outputs": [
    {
     "name": "stdout",
     "output_type": "stream",
     "text": [
      "This person lives in saigon\n"
     ]
    }
   ],
   "source": [
    "print(\"This person lives in\", person['city'])"
   ]
  },
  {
   "cell_type": "markdown",
   "id": "99d5a800",
   "metadata": {},
   "source": [
    "## 6-2"
   ]
  },
  {
   "cell_type": "code",
   "execution_count": 6,
   "id": "265b46e1",
   "metadata": {},
   "outputs": [],
   "source": [
    "fav_num = {\n",
    "    'keith' : 7,\n",
    "    'quinn' : 22,\n",
    "    'khanh' : 14,\n",
    "    'quynh' : 69,\n",
    "    'thien thuat' : 100\n",
    "    \n",
    "}"
   ]
  },
  {
   "cell_type": "code",
   "execution_count": 10,
   "id": "11a3e261",
   "metadata": {},
   "outputs": [
    {
     "name": "stdout",
     "output_type": "stream",
     "text": [
      "Keith's fav num is 7\n"
     ]
    }
   ],
   "source": [
    "print(\"Keith's fav num is\", fav_num['keith'])"
   ]
  },
  {
   "cell_type": "code",
   "execution_count": 12,
   "id": "2cebaca6",
   "metadata": {},
   "outputs": [
    {
     "name": "stdout",
     "output_type": "stream",
     "text": [
      "Quin's fav num is 22\n"
     ]
    }
   ],
   "source": [
    "print(\"Quin's fav num is\", fav_num['quinn'])"
   ]
  },
  {
   "cell_type": "code",
   "execution_count": 15,
   "id": "035384fd",
   "metadata": {},
   "outputs": [
    {
     "name": "stdout",
     "output_type": "stream",
     "text": [
      "Khanh's fav num is 14\n"
     ]
    }
   ],
   "source": [
    "print(\"Khanh's fav num is\", fav_num['khanh'])"
   ]
  },
  {
   "cell_type": "code",
   "execution_count": 14,
   "id": "f74f6c2e",
   "metadata": {},
   "outputs": [
    {
     "name": "stdout",
     "output_type": "stream",
     "text": [
      "Quynh's fav num is 69\n"
     ]
    }
   ],
   "source": [
    "print(\"Quynh's fav num is\", fav_num['quynh'])"
   ]
  },
  {
   "cell_type": "code",
   "execution_count": 13,
   "id": "5eb11ac9",
   "metadata": {},
   "outputs": [
    {
     "name": "stdout",
     "output_type": "stream",
     "text": [
      "thien thuat's fav num is 100\n"
     ]
    }
   ],
   "source": [
    "print(\"thien thuat's fav num is\", fav_num['thien thuat'])"
   ]
  },
  {
   "cell_type": "markdown",
   "id": "5019460c",
   "metadata": {},
   "source": [
    "## 6-3"
   ]
  },
  {
   "cell_type": "code",
   "execution_count": 16,
   "id": "5075120a",
   "metadata": {},
   "outputs": [],
   "source": [
    "new_things = {\n",
    "    'dictionary' : 'A dictionary in Python is a collection of key-value pairs',\n",
    "    'key' : 'Each key is connected to a value, and you can use a key to access the value associated with that key',\n",
    "    'key value' : 'A key’s value can be a number, a string, a list, or even another dictionary',\n",
    "    'key value pair' : 'A key-value pair is a set of values associated with each other',\n",
    "    'dynamic structure' : 'Dynamic structureadd allows users to add new values to it at any time'\n",
    "}"
   ]
  },
  {
   "cell_type": "code",
   "execution_count": 17,
   "id": "49b03a7c",
   "metadata": {},
   "outputs": [
    {
     "name": "stdout",
     "output_type": "stream",
     "text": [
      "A dictionary in Python is a collection of key-value pairs\n",
      "Each key is connected to a value, and you can use a key to access the value associated with that key\n",
      "A key’s value can be a number, a string, a list, or even another dictionary\n",
      "A key-value pair is a set of values associated with each other\n",
      "Dynamic structureadd allows users to add new values to it at any time\n"
     ]
    }
   ],
   "source": [
    "print(new_things['dictionary'])\n",
    "print(new_things['key'])\n",
    "print(new_things['key value'])\n",
    "print(new_things['key value pair'])\n",
    "print(new_things['dynamic structure'])\n"
   ]
  },
  {
   "cell_type": "markdown",
   "id": "c6b3b0f7",
   "metadata": {},
   "source": [
    "## 6-4"
   ]
  },
  {
   "cell_type": "code",
   "execution_count": 22,
   "id": "1b6aad9f",
   "metadata": {},
   "outputs": [
    {
     "name": "stdout",
     "output_type": "stream",
     "text": [
      "A dictionary in Python is a collection of key-value pairs\n",
      "Each key is connected to a value, and you can use a key to access the value associated with that key\n",
      "A key’s value can be a number, a string, a list, or even another dictionary\n",
      "A key-value pair is a set of values associated with each other\n",
      "Dynamic structureadd allows users to add new values to it at any time\n"
     ]
    }
   ],
   "source": [
    "for new_thing in new_things:\n",
    "    print(new_things[new_thing])"
   ]
  },
  {
   "cell_type": "code",
   "execution_count": 24,
   "id": "71fd7be1",
   "metadata": {},
   "outputs": [],
   "source": [
    "new_things['dict looop'] = 'You can loop through all of a dictionary’s key-value pairs, through its keys, or through its values'\n",
    "new_things['keys method'] = 'The keys() method is useful when you don’t need to work with all of the values in a dictionary.'\n",
    "new_things['values method'] = 'the values() method to return a list of values without any keys.'"
   ]
  },
  {
   "cell_type": "code",
   "execution_count": 25,
   "id": "541acb97",
   "metadata": {},
   "outputs": [
    {
     "name": "stdout",
     "output_type": "stream",
     "text": [
      "A dictionary in Python is a collection of key-value pairs\n",
      "Each key is connected to a value, and you can use a key to access the value associated with that key\n",
      "A key’s value can be a number, a string, a list, or even another dictionary\n",
      "A key-value pair is a set of values associated with each other\n",
      "Dynamic structureadd allows users to add new values to it at any time\n",
      "You can loop through all of a dictionary’s key-value pairs, through its keys, or through its values\n",
      "The keys() method is useful when you don’t need to work with all of the values in a dictionary.\n",
      "the values() method to return a list of values without any keys.\n"
     ]
    }
   ],
   "source": [
    "for new_thing in new_things:\n",
    "    print(new_things[new_thing])"
   ]
  },
  {
   "cell_type": "markdown",
   "id": "12914005",
   "metadata": {},
   "source": [
    "## 6-5"
   ]
  },
  {
   "cell_type": "code",
   "execution_count": 26,
   "id": "3edc7e55",
   "metadata": {},
   "outputs": [],
   "source": [
    "riverxcountry = {\n",
    "    'me kong' : 'vietnam',\n",
    "    'amazon' : 'brazil',\n",
    "    'lena': 'russia'\n",
    "}"
   ]
  },
  {
   "cell_type": "code",
   "execution_count": 33,
   "id": "b5b31990",
   "metadata": {},
   "outputs": [
    {
     "name": "stdout",
     "output_type": "stream",
     "text": [
      "Me Kong runs through Vietnam\n",
      "Amazon runs through Brazil\n",
      "Lena runs through Russia\n"
     ]
    }
   ],
   "source": [
    "for river, country in riverxcountry.items():\n",
    "    print(river.title()+\" runs through \"+country.title())"
   ]
  },
  {
   "cell_type": "code",
   "execution_count": 34,
   "id": "4f1b45f1",
   "metadata": {},
   "outputs": [
    {
     "name": "stdout",
     "output_type": "stream",
     "text": [
      "Me Kong\n",
      "Amazon\n",
      "Lena\n"
     ]
    }
   ],
   "source": [
    "for river, country in riverxcountry.items():\n",
    "    print(river.title())"
   ]
  },
  {
   "cell_type": "code",
   "execution_count": 35,
   "id": "2e8c3c83",
   "metadata": {},
   "outputs": [
    {
     "name": "stdout",
     "output_type": "stream",
     "text": [
      "Vietnam\n",
      "Brazil\n",
      "Russia\n"
     ]
    }
   ],
   "source": [
    "for river, country in riverxcountry.items():\n",
    "    print(country.title())"
   ]
  },
  {
   "cell_type": "markdown",
   "id": "731fa1a3",
   "metadata": {},
   "source": [
    "## 6-7"
   ]
  },
  {
   "cell_type": "code",
   "execution_count": 47,
   "id": "fbb7306e",
   "metadata": {},
   "outputs": [],
   "source": [
    "person1 = {\n",
    "    'first name' : 'thien thuat',\n",
    "    'last name' : 'nguyen thi',\n",
    "    'age' : '23',\n",
    "    'city' : 'saigon'\n",
    "}\n",
    "\n",
    "person2 = {\n",
    "    'first name' : 'khanh',\n",
    "    'last name' : 'nguyen thi',\n",
    "    'age' : '23',\n",
    "    'city' : 'saigon'\n",
    "}\n",
    "\n",
    "person3 = {\n",
    "    'first name' : 'wynh',\n",
    "    'last name' : 'nguyen thi',\n",
    "    'age' : '23',\n",
    "    'city' : 'saigon'\n",
    "}\n",
    "\n",
    "people = [person1,person2,person3]"
   ]
  },
  {
   "cell_type": "code",
   "execution_count": 53,
   "id": "fdfa8488",
   "metadata": {},
   "outputs": [
    {
     "name": "stdout",
     "output_type": "stream",
     "text": [
      "First name: thien thuat\n",
      "Last name: nguyen thi\n",
      "Age: 23\n",
      "City: nguyen thi\n",
      "\n",
      "\n",
      "First name: khanh\n",
      "Last name: nguyen thi\n",
      "Age: 23\n",
      "City: nguyen thi\n",
      "\n",
      "\n",
      "First name: wynh\n",
      "Last name: nguyen thi\n",
      "Age: 23\n",
      "City: nguyen thi\n",
      "\n",
      "\n"
     ]
    }
   ],
   "source": [
    "for person in people[:3]:\n",
    "    print(\"First name:\", person['first name'])\n",
    "    print(\"Last name:\", person['last name'])\n",
    "    print(\"Age:\", person['age'])\n",
    "    print(\"City:\", person['last name'])\n",
    "    print(\"\\n\")"
   ]
  },
  {
   "cell_type": "markdown",
   "id": "a33e4be6",
   "metadata": {},
   "source": [
    "## 6-8"
   ]
  },
  {
   "cell_type": "code",
   "execution_count": 54,
   "id": "28b4562e",
   "metadata": {},
   "outputs": [],
   "source": [
    "joji = {\n",
    "    'kind' : 'tuxedo cat',\n",
    "    'owner' : 'me',\n",
    "}\n",
    "\n",
    "tuna = {\n",
    "    'kind' : 'tuxedo cat',\n",
    "    'owner' : 'taylor',\n",
    "}\n",
    "\n",
    "esme = {\n",
    "    'kind' : 'short leg cat',\n",
    "    'owner' : 'lawrence',\n",
    "}\n",
    "\n",
    "pets = [joji,tuna,esme]"
   ]
  },
  {
   "cell_type": "code",
   "execution_count": 70,
   "id": "fc609a81",
   "metadata": {},
   "outputs": [
    {
     "name": "stdout",
     "output_type": "stream",
     "text": [
      "Kind: tuxedo cat\n",
      "Owner: me\n",
      "\n",
      "\n",
      "Kind: tuxedo cat\n",
      "Owner: taylor\n",
      "\n",
      "\n",
      "Kind: short leg cat\n",
      "Owner: lawrence\n",
      "\n",
      "\n"
     ]
    }
   ],
   "source": [
    "for pet in pets[:3]:\n",
    "    print(\"Kind:\", pet['kind'])\n",
    "    print(\"Owner:\", pet['owner'])\n",
    "    print(\"\\n\")"
   ]
  },
  {
   "cell_type": "markdown",
   "id": "e3496204",
   "metadata": {},
   "source": [
    "## 6-9"
   ]
  },
  {
   "cell_type": "code",
   "execution_count": 72,
   "id": "fa0a4b84",
   "metadata": {},
   "outputs": [],
   "source": [
    "fav_places = {\n",
    "    'wynh' : ['saigon','nyc','tokyo'],\n",
    "    'khanh' : ['saigon','puerto rico'],\n",
    "    'sean' : ['hongkong','paris'],\n",
    "}\n"
   ]
  },
  {
   "cell_type": "code",
   "execution_count": 73,
   "id": "40e939cf",
   "metadata": {},
   "outputs": [
    {
     "name": "stdout",
     "output_type": "stream",
     "text": [
      "\n",
      " Wynh 's fav places are:\n",
      "\t Saigon\n",
      "\t Nyc\n",
      "\t Tokyo\n",
      "\n",
      " Khanh 's fav places are:\n",
      "\t Saigon\n",
      "\t Puerto Rico\n",
      "\n",
      " Sean 's fav places are:\n",
      "\t Hongkong\n",
      "\t Paris\n"
     ]
    }
   ],
   "source": [
    "for name, places in fav_places.items():\n",
    "    print('\\n', name.title(), \"'s fav places are:\")\n",
    "    for place in places:\n",
    "        print(\"\\t\", place.title())"
   ]
  },
  {
   "cell_type": "markdown",
   "id": "af09c8ba",
   "metadata": {},
   "source": [
    "## 6-11"
   ]
  },
  {
   "cell_type": "code",
   "execution_count": 74,
   "id": "29ad18a9",
   "metadata": {},
   "outputs": [],
   "source": [
    "cities = {\n",
    "    'saigon': {\n",
    "        'country' : 'vietnam',\n",
    "        'population' : '8.99 millions people',\n",
    "        'fact' : 'best place on earth'\n",
    "    },\n",
    "    'nyc' : {\n",
    "        'country' : 'us',\n",
    "        'population' : '8.47 millions people',\n",
    "        'fact' : 'scary'\n",
    "    },\n",
    "    'panama city' : {\n",
    "        'country' : 'panama',\n",
    "        'population' : '477 thousands people',\n",
    "        'fact' : 'fun 100% would go again'\n",
    "    }\n",
    "}\n"
   ]
  },
  {
   "cell_type": "code",
   "execution_count": 77,
   "id": "eb5a8a1e",
   "metadata": {},
   "outputs": [
    {
     "name": "stdout",
     "output_type": "stream",
     "text": [
      "\n",
      "City: saigon\n",
      "\tCountry: Vietnam\n",
      "\tPopulation: 8.99 millions people\n",
      "\tFact: best place on earth\n",
      "\n",
      "City: nyc\n",
      "\tCountry: Us\n",
      "\tPopulation: 8.47 millions people\n",
      "\tFact: scary\n",
      "\n",
      "City: panama city\n",
      "\tCountry: Panama\n",
      "\tPopulation: 477 thousands people\n",
      "\tFact: fun 100% would go again\n"
     ]
    }
   ],
   "source": [
    "for city, city_info in cities.items():\n",
    "    print(\"\\nCity: \" + city)\n",
    "    country = city_info['country']\n",
    "    popu = city_info['population']\n",
    "    fact = city_info['fact']\n",
    "    \n",
    "    print(\"\\tCountry: \" + country.title())\n",
    "    print(\"\\tPopulation: \" + popu)\n",
    "    print(\"\\tFact: \" + fact)"
   ]
  },
  {
   "cell_type": "code",
   "execution_count": null,
   "id": "2ef50a3d",
   "metadata": {},
   "outputs": [],
   "source": []
  }
 ],
 "metadata": {
  "kernelspec": {
   "display_name": "Python 3 (ipykernel)",
   "language": "python",
   "name": "python3"
  },
  "language_info": {
   "codemirror_mode": {
    "name": "ipython",
    "version": 3
   },
   "file_extension": ".py",
   "mimetype": "text/x-python",
   "name": "python",
   "nbconvert_exporter": "python",
   "pygments_lexer": "ipython3",
   "version": "3.11.4"
  }
 },
 "nbformat": 4,
 "nbformat_minor": 5
}
