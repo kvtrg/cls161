{
 "cells": [
  {
   "cell_type": "markdown",
   "id": "9b21e05b",
   "metadata": {},
   "source": [
    "## 8-1"
   ]
  },
  {
   "cell_type": "code",
   "execution_count": 1,
   "id": "c78cbb9a",
   "metadata": {},
   "outputs": [
    {
     "name": "stdout",
     "output_type": "stream",
     "text": [
      "In this chapter we learn how to define and call a function, as well as passing information to a function.\n"
     ]
    }
   ],
   "source": [
    "def lesson():\n",
    "    \"\"\"Display lesson from chapter\"\"\"\n",
    "    print(\"In this chapter we learn how to define and call a function, as well as passing information to a function.\")\n",
    "    \n",
    "lesson()"
   ]
  },
  {
   "cell_type": "markdown",
   "id": "b8663503",
   "metadata": {},
   "source": [
    "## 8-2"
   ]
  },
  {
   "cell_type": "code",
   "execution_count": 4,
   "id": "b554b933",
   "metadata": {},
   "outputs": [
    {
     "name": "stdout",
     "output_type": "stream",
     "text": [
      "One of my favorite books is Nguyen Thi 4va\n"
     ]
    }
   ],
   "source": [
    "def fav_book(title):\n",
    "    \"\"\"Display favorite book\"\"\"\n",
    "    print(\"One of my favorite books is \" + title)\n",
    "    \n",
    "fav_book(\"Nguyen Thi 4va\")"
   ]
  },
  {
   "cell_type": "markdown",
   "id": "7d75f512",
   "metadata": {},
   "source": [
    "## 8-3"
   ]
  },
  {
   "cell_type": "code",
   "execution_count": 7,
   "id": "f290dac7",
   "metadata": {},
   "outputs": [
    {
     "name": "stdout",
     "output_type": "stream",
     "text": [
      "Your order is size M with printed message:'Buscailodit'\n",
      "Your order is size M with printed message:'Buscailodit'\n"
     ]
    }
   ],
   "source": [
    "def make_shirt(size, text):\n",
    "    print(\"Your order is size \" + size + \" with printed message:'\" + text + \"'\" )\n",
    "    \n",
    "make_shirt('M', 'Buscailodit')\n",
    "make_shirt(text = 'Buscailodit', size = \"M\")"
   ]
  },
  {
   "cell_type": "markdown",
   "id": "048126c6",
   "metadata": {},
   "source": [
    "## 8-5"
   ]
  },
  {
   "cell_type": "code",
   "execution_count": 9,
   "id": "971aecb0",
   "metadata": {},
   "outputs": [
    {
     "name": "stdout",
     "output_type": "stream",
     "text": [
      "Panama City is in Panama\n",
      "San Juan is in Puerto Rico\n",
      "Seoul is in Vietnam\n"
     ]
    }
   ],
   "source": [
    "def describe_city(city = 'Saigon', country = 'Vietnam'):\n",
    "    print(city.title() + \" is in \" + country.title())\n",
    "    \n",
    "describe_city(\"Panama City\", \"Panama\")\n",
    "describe_city(\"San Juan\", \"Puerto Rico\")\n",
    "describe_city(\"Seoul\")"
   ]
  },
  {
   "cell_type": "markdown",
   "id": "546f5a0b",
   "metadata": {},
   "source": [
    "## 8-6"
   ]
  },
  {
   "cell_type": "code",
   "execution_count": 15,
   "id": "7b3b4d44",
   "metadata": {},
   "outputs": [
    {
     "name": "stdout",
     "output_type": "stream",
     "text": [
      "\"Saigon, Vietnam\"\n",
      "\"Seoul, South Korea\"\n",
      "\"Tokyo, Japan\"\n"
     ]
    }
   ],
   "source": [
    "def city_country(city, country):\n",
    "    pair = '\"' + city + \", \" + country + '\"'\n",
    "    return pair.title()\n",
    "\n",
    "pair1 = city_country(\"Saigon\",\"Vietnam\")\n",
    "pair2 = city_country(\"Seoul\",\"South Korea\")\n",
    "pair3 = city_country(\"Tokyo\",\"Japan\")\n",
    "\n",
    "pairs = pair1 + \"\\n\" + pair2 + \"\\n\" + pair3\n",
    "\n",
    "print(pairs)"
   ]
  },
  {
   "cell_type": "markdown",
   "id": "60cd9911",
   "metadata": {},
   "source": [
    "## 8-7"
   ]
  },
  {
   "cell_type": "code",
   "execution_count": 18,
   "id": "5f5037b2",
   "metadata": {},
   "outputs": [
    {
     "name": "stdout",
     "output_type": "stream",
     "text": [
      "{'aritst_name': 'Kelela', 'title': 'Raven'}\n",
      "{'aritst_name': 'Get Up', 'title': 'New Jeans', 'track_num': 5}\n",
      "{'aritst_name': 'Mat nai oi', 'title': 'Xin dung di nhe em', 'track_num': 1}\n"
     ]
    }
   ],
   "source": [
    "def make_album(artist, title, track_num = ''):\n",
    "    \"\"\"Return a dictionary of information about an album\"\"\"\n",
    "    album = {'aritst_name' : artist, 'title' : title }\n",
    "    if track_num:\n",
    "        album['track_num'] = track_num\n",
    "    return album\n",
    "\n",
    "album1 = make_album(\"Kelela\",\"Raven\")\n",
    "print(album1)\n",
    "\n",
    "album2 = make_album(\"Get Up\", \"New Jeans\", 5)\n",
    "print(album2)\n",
    "\n",
    "album3 = make_album(\"Mat nai oi\", \"Xin dung di nhe em\",1)\n",
    "print(album3)\n",
    "        "
   ]
  }
 ],
 "metadata": {
  "kernelspec": {
   "display_name": "Python 3 (ipykernel)",
   "language": "python",
   "name": "python3"
  },
  "language_info": {
   "codemirror_mode": {
    "name": "ipython",
    "version": 3
   },
   "file_extension": ".py",
   "mimetype": "text/x-python",
   "name": "python",
   "nbconvert_exporter": "python",
   "pygments_lexer": "ipython3",
   "version": "3.11.4"
  }
 },
 "nbformat": 4,
 "nbformat_minor": 5
}
